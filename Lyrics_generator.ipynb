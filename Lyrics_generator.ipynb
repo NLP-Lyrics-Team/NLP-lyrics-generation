{
  "nbformat": 4,
  "nbformat_minor": 0,
  "metadata": {
    "colab": {
      "name": "Lyrics Generator.ipynb",
      "provenance": [],
      "collapsed_sections": []
    },
    "kernelspec": {
      "name": "python3",
      "display_name": "Python 3"
    },
    "language_info": {
      "name": "python"
    },
    "widgets": {
      "application/vnd.jupyter.widget-state+json": {
        "6e2fd8bc132c42d599449532b5250f97": {
          "model_module": "@jupyter-widgets/controls",
          "model_name": "BoxModel",
          "model_module_version": "1.5.0",
          "state": {
            "_view_name": "BoxView",
            "_dom_classes": [],
            "_model_name": "BoxModel",
            "_view_module": "@jupyter-widgets/controls",
            "_model_module_version": "1.5.0",
            "_view_count": null,
            "_view_module_version": "1.5.0",
            "box_style": "",
            "layout": "IPY_MODEL_485ca762426d4431a67e448e53fd1910",
            "_model_module": "@jupyter-widgets/controls",
            "children": [
              "IPY_MODEL_846c58def8f9420eb7cc0f193871154a",
              "IPY_MODEL_bffedb84b6cb4e5a92bf46ee02f392a7"
            ]
          }
        },
        "485ca762426d4431a67e448e53fd1910": {
          "model_module": "@jupyter-widgets/base",
          "model_name": "LayoutModel",
          "model_module_version": "1.2.0",
          "state": {
            "_view_name": "LayoutView",
            "grid_template_rows": null,
            "right": null,
            "justify_content": null,
            "_view_module": "@jupyter-widgets/base",
            "overflow": null,
            "_model_module_version": "1.2.0",
            "_view_count": null,
            "flex_flow": "column",
            "width": "22%",
            "min_width": null,
            "border": null,
            "align_items": "stretch",
            "bottom": null,
            "_model_module": "@jupyter-widgets/base",
            "top": null,
            "grid_column": null,
            "overflow_y": null,
            "overflow_x": null,
            "grid_auto_flow": null,
            "grid_area": null,
            "grid_template_columns": null,
            "flex": null,
            "_model_name": "LayoutModel",
            "justify_items": null,
            "grid_row": null,
            "max_height": null,
            "align_content": null,
            "visibility": null,
            "align_self": null,
            "height": null,
            "min_height": null,
            "padding": null,
            "grid_auto_rows": null,
            "grid_gap": null,
            "max_width": null,
            "order": null,
            "_view_module_version": "1.2.0",
            "grid_template_areas": null,
            "object_position": null,
            "object_fit": null,
            "grid_auto_columns": null,
            "margin": null,
            "display": "flex",
            "left": null
          }
        },
        "846c58def8f9420eb7cc0f193871154a": {
          "model_module": "@jupyter-widgets/controls",
          "model_name": "BoxModel",
          "model_module_version": "1.5.0",
          "state": {
            "_view_name": "BoxView",
            "_dom_classes": [],
            "_model_name": "BoxModel",
            "_view_module": "@jupyter-widgets/controls",
            "_model_module_version": "1.5.0",
            "_view_count": null,
            "_view_module_version": "1.5.0",
            "box_style": "",
            "layout": "IPY_MODEL_2650926911734acb9a6526fdb07cee2c",
            "_model_module": "@jupyter-widgets/controls",
            "children": [
              "IPY_MODEL_02213e738f014dedbef7d9d829678f49",
              "IPY_MODEL_5169d896bd1642ebac3e8048c51f7cbd"
            ]
          }
        },
        "bffedb84b6cb4e5a92bf46ee02f392a7": {
          "model_module": "@jupyter-widgets/controls",
          "model_name": "BoxModel",
          "model_module_version": "1.5.0",
          "state": {
            "_view_name": "BoxView",
            "_dom_classes": [],
            "_model_name": "BoxModel",
            "_view_module": "@jupyter-widgets/controls",
            "_model_module_version": "1.5.0",
            "_view_count": null,
            "_view_module_version": "1.5.0",
            "box_style": "",
            "layout": "IPY_MODEL_2650926911734acb9a6526fdb07cee2c",
            "_model_module": "@jupyter-widgets/controls",
            "children": [
              "IPY_MODEL_6655631ef2f74e328cfb8e15c9759f91",
              "IPY_MODEL_e247dac2fc384abfb790c14eb63858f4"
            ]
          }
        },
        "2650926911734acb9a6526fdb07cee2c": {
          "model_module": "@jupyter-widgets/base",
          "model_name": "LayoutModel",
          "model_module_version": "1.2.0",
          "state": {
            "_view_name": "LayoutView",
            "grid_template_rows": null,
            "right": null,
            "justify_content": "space-between",
            "_view_module": "@jupyter-widgets/base",
            "overflow": null,
            "_model_module_version": "1.2.0",
            "_view_count": null,
            "flex_flow": "row",
            "width": null,
            "min_width": null,
            "border": null,
            "align_items": null,
            "bottom": null,
            "_model_module": "@jupyter-widgets/base",
            "top": null,
            "grid_column": null,
            "overflow_y": null,
            "overflow_x": null,
            "grid_auto_flow": null,
            "grid_area": null,
            "grid_template_columns": null,
            "flex": null,
            "_model_name": "LayoutModel",
            "justify_items": null,
            "grid_row": null,
            "max_height": null,
            "align_content": null,
            "visibility": null,
            "align_self": null,
            "height": null,
            "min_height": null,
            "padding": null,
            "grid_auto_rows": null,
            "grid_gap": null,
            "max_width": null,
            "order": null,
            "_view_module_version": "1.2.0",
            "grid_template_areas": null,
            "object_position": null,
            "object_fit": null,
            "grid_auto_columns": null,
            "margin": null,
            "display": "flex",
            "left": null
          }
        },
        "02213e738f014dedbef7d9d829678f49": {
          "model_module": "@jupyter-widgets/controls",
          "model_name": "LabelModel",
          "model_module_version": "1.5.0",
          "state": {
            "_view_name": "LabelView",
            "style": "IPY_MODEL_91a257db25c74eb08815698291cd4f99",
            "_dom_classes": [],
            "description": "",
            "_model_name": "LabelModel",
            "placeholder": "​",
            "_view_module": "@jupyter-widgets/controls",
            "_model_module_version": "1.5.0",
            "value": "Word",
            "_view_count": null,
            "_view_module_version": "1.5.0",
            "description_tooltip": null,
            "_model_module": "@jupyter-widgets/controls",
            "layout": "IPY_MODEL_62b2d4b319cb45c18e688a757531b3f2"
          }
        },
        "5169d896bd1642ebac3e8048c51f7cbd": {
          "model_module": "@jupyter-widgets/controls",
          "model_name": "TextModel",
          "model_module_version": "1.5.0",
          "state": {
            "_view_name": "TextView",
            "style": "IPY_MODEL_add937cf77054842be921b8f4dd6feed",
            "_dom_classes": [],
            "description": "",
            "_model_name": "TextModel",
            "placeholder": "​",
            "_view_module": "@jupyter-widgets/controls",
            "_model_module_version": "1.5.0",
            "value": "saturday",
            "_view_count": null,
            "disabled": false,
            "_view_module_version": "1.5.0",
            "continuous_update": true,
            "description_tooltip": null,
            "_model_module": "@jupyter-widgets/controls",
            "layout": "IPY_MODEL_6dc924141ba34fb9bde06b871e4e4755"
          }
        },
        "6655631ef2f74e328cfb8e15c9759f91": {
          "model_module": "@jupyter-widgets/controls",
          "model_name": "LabelModel",
          "model_module_version": "1.5.0",
          "state": {
            "_view_name": "LabelView",
            "style": "IPY_MODEL_f974533bd8064ceba954059498466ca4",
            "_dom_classes": [],
            "description": "",
            "_model_name": "LabelModel",
            "placeholder": "​",
            "_view_module": "@jupyter-widgets/controls",
            "_model_module_version": "1.5.0",
            "value": "Genre",
            "_view_count": null,
            "_view_module_version": "1.5.0",
            "description_tooltip": null,
            "_model_module": "@jupyter-widgets/controls",
            "layout": "IPY_MODEL_a79a240fc2d94adc80b0d53b66f99ad2"
          }
        },
        "e247dac2fc384abfb790c14eb63858f4": {
          "model_module": "@jupyter-widgets/controls",
          "model_name": "DropdownModel",
          "model_module_version": "1.5.0",
          "state": {
            "_options_labels": [
              "Country",
              "Electronic",
              "Folk",
              "Hip-Hop",
              "Indie",
              "Jazz",
              "Metal",
              "Pop",
              "R&B",
              "Rock"
            ],
            "_view_name": "DropdownView",
            "style": "IPY_MODEL_4da2c213c4844668a7f6fe5736b3bf17",
            "_dom_classes": [],
            "description": "",
            "_model_name": "DropdownModel",
            "index": 9,
            "_view_module": "@jupyter-widgets/controls",
            "_model_module_version": "1.5.0",
            "_view_count": null,
            "disabled": false,
            "_view_module_version": "1.5.0",
            "description_tooltip": null,
            "_model_module": "@jupyter-widgets/controls",
            "layout": "IPY_MODEL_bbf907cedb174122a57b8cca58de8a45"
          }
        },
        "91a257db25c74eb08815698291cd4f99": {
          "model_module": "@jupyter-widgets/controls",
          "model_name": "DescriptionStyleModel",
          "model_module_version": "1.5.0",
          "state": {
            "_view_name": "StyleView",
            "_model_name": "DescriptionStyleModel",
            "description_width": "",
            "_view_module": "@jupyter-widgets/base",
            "_model_module_version": "1.5.0",
            "_view_count": null,
            "_view_module_version": "1.2.0",
            "_model_module": "@jupyter-widgets/controls"
          }
        },
        "62b2d4b319cb45c18e688a757531b3f2": {
          "model_module": "@jupyter-widgets/base",
          "model_name": "LayoutModel",
          "model_module_version": "1.2.0",
          "state": {
            "_view_name": "LayoutView",
            "grid_template_rows": null,
            "right": null,
            "justify_content": null,
            "_view_module": "@jupyter-widgets/base",
            "overflow": null,
            "_model_module_version": "1.2.0",
            "_view_count": null,
            "flex_flow": null,
            "width": null,
            "min_width": null,
            "border": null,
            "align_items": null,
            "bottom": null,
            "_model_module": "@jupyter-widgets/base",
            "top": null,
            "grid_column": null,
            "overflow_y": null,
            "overflow_x": null,
            "grid_auto_flow": null,
            "grid_area": null,
            "grid_template_columns": null,
            "flex": null,
            "_model_name": "LayoutModel",
            "justify_items": null,
            "grid_row": null,
            "max_height": null,
            "align_content": null,
            "visibility": null,
            "align_self": null,
            "height": null,
            "min_height": null,
            "padding": null,
            "grid_auto_rows": null,
            "grid_gap": null,
            "max_width": null,
            "order": null,
            "_view_module_version": "1.2.0",
            "grid_template_areas": null,
            "object_position": null,
            "object_fit": null,
            "grid_auto_columns": null,
            "margin": null,
            "display": null,
            "left": null
          }
        },
        "add937cf77054842be921b8f4dd6feed": {
          "model_module": "@jupyter-widgets/controls",
          "model_name": "DescriptionStyleModel",
          "model_module_version": "1.5.0",
          "state": {
            "_view_name": "StyleView",
            "_model_name": "DescriptionStyleModel",
            "description_width": "",
            "_view_module": "@jupyter-widgets/base",
            "_model_module_version": "1.5.0",
            "_view_count": null,
            "_view_module_version": "1.2.0",
            "_model_module": "@jupyter-widgets/controls"
          }
        },
        "6dc924141ba34fb9bde06b871e4e4755": {
          "model_module": "@jupyter-widgets/base",
          "model_name": "LayoutModel",
          "model_module_version": "1.2.0",
          "state": {
            "_view_name": "LayoutView",
            "grid_template_rows": null,
            "right": null,
            "justify_content": null,
            "_view_module": "@jupyter-widgets/base",
            "overflow": null,
            "_model_module_version": "1.2.0",
            "_view_count": null,
            "flex_flow": null,
            "width": null,
            "min_width": null,
            "border": null,
            "align_items": null,
            "bottom": null,
            "_model_module": "@jupyter-widgets/base",
            "top": null,
            "grid_column": null,
            "overflow_y": null,
            "overflow_x": null,
            "grid_auto_flow": null,
            "grid_area": null,
            "grid_template_columns": null,
            "flex": null,
            "_model_name": "LayoutModel",
            "justify_items": null,
            "grid_row": null,
            "max_height": null,
            "align_content": null,
            "visibility": null,
            "align_self": null,
            "height": null,
            "min_height": null,
            "padding": null,
            "grid_auto_rows": null,
            "grid_gap": null,
            "max_width": null,
            "order": null,
            "_view_module_version": "1.2.0",
            "grid_template_areas": null,
            "object_position": null,
            "object_fit": null,
            "grid_auto_columns": null,
            "margin": null,
            "display": null,
            "left": null
          }
        },
        "f974533bd8064ceba954059498466ca4": {
          "model_module": "@jupyter-widgets/controls",
          "model_name": "DescriptionStyleModel",
          "model_module_version": "1.5.0",
          "state": {
            "_view_name": "StyleView",
            "_model_name": "DescriptionStyleModel",
            "description_width": "",
            "_view_module": "@jupyter-widgets/base",
            "_model_module_version": "1.5.0",
            "_view_count": null,
            "_view_module_version": "1.2.0",
            "_model_module": "@jupyter-widgets/controls"
          }
        },
        "a79a240fc2d94adc80b0d53b66f99ad2": {
          "model_module": "@jupyter-widgets/base",
          "model_name": "LayoutModel",
          "model_module_version": "1.2.0",
          "state": {
            "_view_name": "LayoutView",
            "grid_template_rows": null,
            "right": null,
            "justify_content": null,
            "_view_module": "@jupyter-widgets/base",
            "overflow": null,
            "_model_module_version": "1.2.0",
            "_view_count": null,
            "flex_flow": null,
            "width": null,
            "min_width": null,
            "border": null,
            "align_items": null,
            "bottom": null,
            "_model_module": "@jupyter-widgets/base",
            "top": null,
            "grid_column": null,
            "overflow_y": null,
            "overflow_x": null,
            "grid_auto_flow": null,
            "grid_area": null,
            "grid_template_columns": null,
            "flex": null,
            "_model_name": "LayoutModel",
            "justify_items": null,
            "grid_row": null,
            "max_height": null,
            "align_content": null,
            "visibility": null,
            "align_self": null,
            "height": null,
            "min_height": null,
            "padding": null,
            "grid_auto_rows": null,
            "grid_gap": null,
            "max_width": null,
            "order": null,
            "_view_module_version": "1.2.0",
            "grid_template_areas": null,
            "object_position": null,
            "object_fit": null,
            "grid_auto_columns": null,
            "margin": null,
            "display": null,
            "left": null
          }
        },
        "4da2c213c4844668a7f6fe5736b3bf17": {
          "model_module": "@jupyter-widgets/controls",
          "model_name": "DescriptionStyleModel",
          "model_module_version": "1.5.0",
          "state": {
            "_view_name": "StyleView",
            "_model_name": "DescriptionStyleModel",
            "description_width": "",
            "_view_module": "@jupyter-widgets/base",
            "_model_module_version": "1.5.0",
            "_view_count": null,
            "_view_module_version": "1.2.0",
            "_model_module": "@jupyter-widgets/controls"
          }
        },
        "bbf907cedb174122a57b8cca58de8a45": {
          "model_module": "@jupyter-widgets/base",
          "model_name": "LayoutModel",
          "model_module_version": "1.2.0",
          "state": {
            "_view_name": "LayoutView",
            "grid_template_rows": null,
            "right": null,
            "justify_content": null,
            "_view_module": "@jupyter-widgets/base",
            "overflow": null,
            "_model_module_version": "1.2.0",
            "_view_count": null,
            "flex_flow": null,
            "width": null,
            "min_width": null,
            "border": null,
            "align_items": null,
            "bottom": null,
            "_model_module": "@jupyter-widgets/base",
            "top": null,
            "grid_column": null,
            "overflow_y": null,
            "overflow_x": null,
            "grid_auto_flow": null,
            "grid_area": null,
            "grid_template_columns": null,
            "flex": null,
            "_model_name": "LayoutModel",
            "justify_items": null,
            "grid_row": null,
            "max_height": null,
            "align_content": null,
            "visibility": null,
            "align_self": null,
            "height": null,
            "min_height": null,
            "padding": null,
            "grid_auto_rows": null,
            "grid_gap": null,
            "max_width": null,
            "order": null,
            "_view_module_version": "1.2.0",
            "grid_template_areas": null,
            "object_position": null,
            "object_fit": null,
            "grid_auto_columns": null,
            "margin": null,
            "display": null,
            "left": null
          }
        }
      }
    }
  },
  "cells": [
    {
      "cell_type": "markdown",
      "metadata": {
        "id": "BifTvjI_0YIQ"
      },
      "source": [
        "# Initialize the framework"
      ]
    },
    {
      "cell_type": "markdown",
      "metadata": {
        "id": "FZygNQYSBHBK"
      },
      "source": [
        "Import torch libraries and try to use the GPU device (if available)"
      ]
    },
    {
      "cell_type": "code",
      "metadata": {
        "colab": {
          "base_uri": "https://localhost:8080/"
        },
        "id": "kf3O7Pco7uQf",
        "outputId": "96fbfaa7-52c7-49c6-f76d-640c2cbdc638"
      },
      "source": [
        "import torch\n",
        "from torch import nn\n",
        "\n",
        "import random\n",
        "\n",
        "# Try to use GPU device\n",
        "device = \"cuda\" if torch.cuda.is_available() else \"cpu\"\n",
        "print(\"Using %s device\" %(device))"
      ],
      "execution_count": 1,
      "outputs": [
        {
          "output_type": "stream",
          "name": "stdout",
          "text": [
            "Using cpu device\n"
          ]
        }
      ]
    },
    {
      "cell_type": "markdown",
      "metadata": {
        "id": "j7A6v-s1ctRe"
      },
      "source": [
        "Mount Google Drive to load\n",
        "* the lyrics dataset,\n",
        "* the word2vec pretrained embedding dictionaries,\n",
        "* the one hot encoding dictionary for the genres,\n",
        "* the lyrics generator neural network\n",
        "\n"
      ]
    },
    {
      "cell_type": "code",
      "metadata": {
        "colab": {
          "base_uri": "https://localhost:8080/"
        },
        "id": "VOQ9mojZPL_t",
        "outputId": "e712be8c-d02c-4ece-d436-9c8a400fd54c"
      },
      "source": [
        "from google.colab import drive\n",
        "drive.mount(\"/content/drive\")"
      ],
      "execution_count": 2,
      "outputs": [
        {
          "output_type": "stream",
          "name": "stdout",
          "text": [
            "Mounted at /content/drive\n"
          ]
        }
      ]
    },
    {
      "cell_type": "markdown",
      "metadata": {
        "id": "y_wBUTkHSMbj"
      },
      "source": [
        "Load the dictionaries to convert words to indices and viceversa"
      ]
    },
    {
      "cell_type": "code",
      "metadata": {
        "id": "TlRS-bmTSCyW"
      },
      "source": [
        "#import pickle\n",
        "import json\n",
        "\n",
        "FILENAME_W2I = '/content/drive/MyDrive/DM project - NLP lyrics generation/Dictionaries/words2indices'\n",
        "FILENAME_I2W = '/content/drive/MyDrive/DM project - NLP lyrics generation/Dictionaries/indices2words'\n",
        "\n",
        "# Load a dictionary from a stored file converting keys to integers if needed\n",
        "def load_dictionary(filename, convert_keys=False):\n",
        "  #with open(filename + \".pkl\", \"rb\") as f:\n",
        "  #  return pickle.load(f)    \n",
        "\n",
        "  with open(filename + \".json\", \"r\") as f:\n",
        "    d = json.load(f)\n",
        "\n",
        "  if convert_keys:\n",
        "    dd = {}\n",
        "    for key, value in d.items():\n",
        "      dd[int(key)] = value\n",
        "\n",
        "    return dd\n",
        "  \n",
        "  return d\n",
        "\n",
        "words2indices = load_dictionary(FILENAME_W2I)\n",
        "indices2words = load_dictionary(FILENAME_I2W, convert_keys=True) # JSON stores keys as strings while here we expect integers"
      ],
      "execution_count": 3,
      "outputs": []
    },
    {
      "cell_type": "markdown",
      "metadata": {
        "id": "r8DoHahP6TK9"
      },
      "source": [
        "Load the word vectors tensor (word2vec embedding)"
      ]
    },
    {
      "cell_type": "code",
      "metadata": {
        "id": "xGyNGE0a6RAW"
      },
      "source": [
        "FILENAME = '/content/drive/MyDrive/DM project - NLP lyrics generation/Dictionaries/word_vectors.pt'\n",
        "\n",
        "word_vectors = torch.load(FILENAME, map_location=device)"
      ],
      "execution_count": 4,
      "outputs": []
    },
    {
      "cell_type": "markdown",
      "metadata": {
        "id": "T_-LYlQHSOtr"
      },
      "source": [
        "Load the one hot encoding dictionary for the genres"
      ]
    },
    {
      "cell_type": "code",
      "metadata": {
        "id": "y2n6tioeSyLk"
      },
      "source": [
        "FILENAME = '/content/drive/MyDrive/DM project - NLP lyrics generation/Dictionaries/one_hot_encoding_genres'\n",
        "\n",
        "one_hot_encoding_genres = load_dictionary(FILENAME)\n",
        "NUMBER_GENRES = len(one_hot_encoding_genres)"
      ],
      "execution_count": 5,
      "outputs": []
    },
    {
      "cell_type": "markdown",
      "metadata": {
        "id": "bOhAJ-i81z62"
      },
      "source": [
        "Define vocabulary functions"
      ]
    },
    {
      "cell_type": "code",
      "metadata": {
        "id": "VBF2eyNB13Hy"
      },
      "source": [
        "# Get word from index\n",
        "def get_word_from_index(idx):\n",
        "  # Use get to automatically return None if the index is not present in the dictionary\n",
        "  return indices2words.get(idx)\n",
        "\n",
        "# Get index from word\n",
        "def get_index_from_word(word):\n",
        "  # Use get to automatically return None if the word is not present in the dictionary\n",
        "  return words2indices.get(word)\n",
        "\n",
        "# Get word vector from word\n",
        "def get_word_vector(word):\n",
        "  idx = get_index_from_word(word)\n",
        "  return word_vectors[idx] if idx != None else None"
      ],
      "execution_count": 6,
      "outputs": []
    },
    {
      "cell_type": "markdown",
      "metadata": {
        "id": "zfWZFXUx1V5S"
      },
      "source": [
        "Define the generator neural network"
      ]
    },
    {
      "cell_type": "code",
      "metadata": {
        "id": "5v1Z9oiklokj"
      },
      "source": [
        "class Generator(nn.Module):\n",
        "\n",
        "  def __init__(\n",
        "      self,\n",
        "      word_vectors: torch.Tensor,\n",
        "      lstm_hidden_size: int,\n",
        "      dense_size: int,\n",
        "      vocab_size: int\n",
        "  ):\n",
        "    super().__init__()\n",
        "    \n",
        "    # Embedding layer\n",
        "    self.embedding = torch.nn.Embedding.from_pretrained(word_vectors)\n",
        "    \n",
        "    # Recurrent layer (LSTM)\n",
        "    self.rnn = torch.nn.LSTM(input_size=word_vectors.size(1), hidden_size=lstm_hidden_size, num_layers=1, batch_first=True)\n",
        "\n",
        "    # Dense layer\n",
        "    self.lin1 = torch.nn.Linear(dense_size, vocab_size) # Legacy\n",
        "    #self.dense = torch.nn.Linear(dense_size, vocab_size)\n",
        "    #torch.nn.init.uniform_(self.dense.weight)\n",
        "\n",
        "    # Dropout function\n",
        "    self.dropout = nn.Dropout(p=0.1)\n",
        "\t\t\n",
        "\t\t# Loss function\n",
        "    self.loss = torch.nn.CrossEntropyLoss()\n",
        "    \n",
        "    self.global_epoch = 0\n",
        "    \n",
        "  def forward(self, x, y=None, states=None):\n",
        "    # Split input in lyrics and genre\n",
        "    lyrics = x[0]\n",
        "    genres = x[1]\n",
        "\n",
        "    # Embedding words from indices\n",
        "    out = self.embedding(lyrics)\n",
        "\n",
        "    # Recurrent layer\n",
        "    out, states  = self.rnn(out, states)\n",
        "\n",
        "    # Duplicate the genre vector associated to a sequence for each word in the sequence\n",
        "    seq_length = lyrics.size()[1]\n",
        "\n",
        "    if seq_length > 1:\n",
        "      genres_duplicated = []\n",
        "      for tensor in genres:\n",
        "        duplicated = [list(tensor) for i in range(seq_length)]\n",
        "        genres_duplicated.append(duplicated)\n",
        "\n",
        "      genres = torch.tensor(genres_duplicated, device=device)\n",
        "    else:\n",
        "      # Just increment the genres vector dimension\n",
        "      genres = genres.unsqueeze(0)\n",
        "\n",
        "\n",
        "    # Concatenate the LSTM output with the encoding of genres\n",
        "    out = torch.cat((out, genres), dim=-1)\n",
        "\n",
        "    # Dense layer\n",
        "    out = self.lin1(out) # Legacy\n",
        "    #out = self.dense(out)\n",
        "\n",
        "    # Use the last prediction\n",
        "    logits = out[:, -1, :]\n",
        "    \n",
        "    # Scale logits in [0,1] to avoid negative logits\n",
        "    logits = torch.softmax(logits, dim=-1)\n",
        "\n",
        "    # Max likelihood can return repeated sequences over and over.\n",
        "    # Sample from the multinomial probability distribution of 'logits' (after softmax). \n",
        "    # Return the index of the sample (one for each row of the input matrix) \n",
        "    # that corresponds to the index in the vocabulary as logits are calculated on the whole vocabulary\n",
        "    sampled_indices = torch.multinomial(logits, num_samples=1)\n",
        "    \n",
        "    result = {'logits': logits, 'pred': sampled_indices, 'states': states}\n",
        "    \n",
        "    if y is not None:\n",
        "      result['loss']     = self.loss(logits, y)\n",
        "      result['accuracy'] = self.accuracy(sampled_indices, y.unsqueeze(-1))\n",
        "      \n",
        "    return result\n",
        "\n",
        "  def accuracy(self, pred, target):\n",
        "    return torch.sum(pred == target) / pred.size()[0]"
      ],
      "execution_count": 17,
      "outputs": []
    },
    {
      "cell_type": "markdown",
      "metadata": {
        "id": "7jKV6HHNqs9_"
      },
      "source": [
        "Load the generator model"
      ]
    },
    {
      "cell_type": "code",
      "metadata": {
        "id": "HXM6rAjquAJr"
      },
      "source": [
        "PATH = '/content/drive/MyDrive/DM project - NLP lyrics generation/Models/generator_model.pt'\n",
        "#PATH = '/content/drive/MyDrive/DM project - NLP lyrics generation/generator_model_GAN.pt'\n",
        "\n",
        "gen = Generator(\n",
        "    word_vectors,\n",
        "    lstm_hidden_size=256,\n",
        "    dense_size=256+NUMBER_GENRES,\n",
        "    vocab_size=len(word_vectors))\n",
        "\n",
        "checkpoint = torch.load(PATH, map_location=device)\n",
        "gen.load_state_dict(checkpoint['model_state_dict'])\n",
        "\n",
        "# Try to move the model on the GPU \n",
        "if torch.cuda.is_available():\n",
        "  gen.cuda()"
      ],
      "execution_count": 18,
      "outputs": []
    },
    {
      "cell_type": "markdown",
      "metadata": {
        "id": "dnEREogZCzzL"
      },
      "source": [
        "# User input"
      ]
    },
    {
      "cell_type": "markdown",
      "metadata": {
        "id": "49fiMeXqPymc"
      },
      "source": [
        "Sort genres"
      ]
    },
    {
      "cell_type": "code",
      "metadata": {
        "id": "pknYwqLHEx8L"
      },
      "source": [
        "genres = [key for key in one_hot_encoding_genres]\n",
        "genres.sort()"
      ],
      "execution_count": 19,
      "outputs": []
    },
    {
      "cell_type": "markdown",
      "metadata": {
        "id": "U01UIzu7P0np"
      },
      "source": [
        "Display input form"
      ]
    },
    {
      "cell_type": "code",
      "metadata": {
        "colab": {
          "base_uri": "https://localhost:8080/",
          "height": 115,
          "referenced_widgets": [
            "6e2fd8bc132c42d599449532b5250f97",
            "485ca762426d4431a67e448e53fd1910",
            "846c58def8f9420eb7cc0f193871154a",
            "bffedb84b6cb4e5a92bf46ee02f392a7",
            "2650926911734acb9a6526fdb07cee2c",
            "02213e738f014dedbef7d9d829678f49",
            "5169d896bd1642ebac3e8048c51f7cbd",
            "6655631ef2f74e328cfb8e15c9759f91",
            "e247dac2fc384abfb790c14eb63858f4",
            "91a257db25c74eb08815698291cd4f99",
            "62b2d4b319cb45c18e688a757531b3f2",
            "add937cf77054842be921b8f4dd6feed",
            "6dc924141ba34fb9bde06b871e4e4755",
            "f974533bd8064ceba954059498466ca4",
            "a79a240fc2d94adc80b0d53b66f99ad2",
            "4da2c213c4844668a7f6fe5736b3bf17",
            "bbf907cedb174122a57b8cca58de8a45"
          ]
        },
        "id": "ckFdGiLzLcx5",
        "outputId": "8918525c-8091-46c0-c1c7-e354a6474e13"
      },
      "source": [
        "from ipywidgets import Layout, Box, Label, Dropdown, Text\n",
        "\n",
        "print(\"Enter a word and a genre to generate a lyrics\\n\")\n",
        "form_item_layout = Layout(\n",
        "    display='flex',\n",
        "    flex_flow='row',\n",
        "    justify_content='space-between'\n",
        ")\n",
        "\n",
        "word_widget   = Text()\n",
        "genres_widget = Dropdown(options=genres)\n",
        "\n",
        "form_items = [\n",
        "    Box([Label(value='Word'), word_widget], layout=form_item_layout), \n",
        "    Box([Label(value='Genre'), genres_widget], layout=form_item_layout),\n",
        "]\n",
        "\n",
        "form = Box(form_items, layout=Layout(\n",
        "    display='flex',\n",
        "    flex_flow='column',\n",
        "    align_items='stretch',\n",
        "    width='22%'\n",
        "))\n",
        "form"
      ],
      "execution_count": 20,
      "outputs": [
        {
          "output_type": "stream",
          "name": "stdout",
          "text": [
            "Enter a word and a genre to generate a lyrics\n",
            "\n"
          ]
        },
        {
          "output_type": "display_data",
          "data": {
            "application/vnd.jupyter.widget-view+json": {
              "model_id": "6e2fd8bc132c42d599449532b5250f97",
              "version_minor": 0,
              "version_major": 2
            },
            "text/plain": [
              "Box(children=(Box(children=(Label(value='Word'), Text(value='')), layout=Layout(display='flex', flex_flow='row…"
            ]
          },
          "metadata": {}
        }
      ]
    },
    {
      "cell_type": "markdown",
      "metadata": {
        "id": "1mLr-iAgUrMH"
      },
      "source": [
        "Get user input"
      ]
    },
    {
      "cell_type": "code",
      "metadata": {
        "id": "hAGTZAQeR1Ns"
      },
      "source": [
        "word  = word_widget.value\n",
        "genre = genres_widget.value"
      ],
      "execution_count": 106,
      "outputs": []
    },
    {
      "cell_type": "code",
      "metadata": {
        "id": "8L9kcaJspFVH"
      },
      "source": [
        "##@title # Insert a word and a genre to generate a lyrics\n",
        "#word  = \"\" #@param {type:\"string\", required: true}\n",
        "#genre = \"Country\" #@param [\"Country\", \"Electronic\", \"Folk\", \"Hip-Hop\", \"Indie\", \"Jazz\", \"Metal\", \"Pop\", \"Rock\", \"R&B\"]"
      ],
      "execution_count": 107,
      "outputs": []
    },
    {
      "cell_type": "markdown",
      "metadata": {
        "id": "QgURrDK9EPGj"
      },
      "source": [
        "Preprocess the user input"
      ]
    },
    {
      "cell_type": "code",
      "metadata": {
        "id": "CdKFpku6cfph"
      },
      "source": [
        "# Split entered words on whitespaces to support also sequences of words\n",
        "input_words = word.strip().split()\n",
        "\n",
        "if not input_words:\n",
        "  raise ValueError(\"No word entered\")\n",
        "\n",
        "# Check if every input word is present in the vocabulary (or in lowercase form)\n",
        "for word in input_words:\n",
        "  if word not in words2indices and word.lower() not in words2indices:\n",
        "    raise ValueError(\"The entered word is not valid\")"
      ],
      "execution_count": 108,
      "outputs": []
    },
    {
      "cell_type": "markdown",
      "metadata": {
        "id": "6XXwvhPBrAvM"
      },
      "source": [
        "Generate the lyrics"
      ]
    },
    {
      "cell_type": "code",
      "metadata": {
        "colab": {
          "base_uri": "https://localhost:8080/"
        },
        "id": "KzBhJpjB2GdM",
        "outputId": "2f148b95-8ea9-46ec-efd1-1d3ca767be88"
      },
      "source": [
        "TEXT_LENGTH = 100                # Truncate the text when the goal text length has been generated (hard truncation)\n",
        "LINES = random.randrange(10, 50) # Truncate the text when the goal lines number has been generated (soft truncation)\n",
        "\n",
        "states = None\n",
        "text = \"\"\n",
        "prev_word = \"\"\n",
        "lines           = 0\n",
        "generated_words = 0\n",
        "\n",
        "word2capitalize = [\"I\", \"I'm\", \"I'd\"]\n",
        "punctuation_subset = { '.', ',', ';', ':', '!', '?', ')', ']', '}', '$', '/', '…', '...', '..' }\n",
        "\n",
        "\n",
        "# Iterate input words\n",
        "for i in range(len(input_words)):\n",
        "  w = input_words[i]\n",
        "\n",
        "  # Check if the word is not present in the vocabulary in the current form\n",
        "  if w not in words2indices:\n",
        "    # Use the lowercase version (as it must be present in one of the two forms)\n",
        "    input_words[i] = w.lower()\n",
        "\n",
        "  # Check if this is the first word\n",
        "  if i == 0:\n",
        "    # Capitalize the first letter of the word\n",
        "    w = w[0].upper() + w[1:]\n",
        "    text = w\n",
        "  else:\n",
        "    text += ' ' + w\n",
        "\n",
        "  prev_word = w\n",
        "\n",
        "# Copy user input words to allow generating multiple lyrics with the same input\n",
        "input_words_ = input_words.copy()\n",
        "\n",
        "# One hot encode the genre\n",
        "input_genre = one_hot_encoding_genres[genre]\n",
        "input_genre = torch.tensor(input_genre, device=device).unsqueeze(0)\n",
        "\n",
        "\n",
        "def generate_next_word(input_words, states=None):\n",
        "  # Convert words to indices\n",
        "  indices = [get_index_from_word(w) for w in input_words]\n",
        "  indices = torch.tensor(indices, device=device).unsqueeze(0)\n",
        "\n",
        "  y = gen((indices, input_genre), states=states)\n",
        "\n",
        "  next_word_index = y['pred'].item()\n",
        "  #print(\"next_word_index:\", next_word_index)\n",
        "\n",
        "  return get_word_from_index(next_word_index), y['states']\n",
        "\n",
        "\n",
        "#for i in range(TEXT_LENGTH):\n",
        "while lines < LINES:\n",
        "  # Generate next word\n",
        "  next_word, states = generate_next_word(input_words_, states)\n",
        "  \n",
        "  input_words_ = input_words_[1:]\n",
        "  input_words_.append(next_word)\n",
        "\n",
        "  #print(\"next word:\", next_word)\n",
        "\n",
        "  # Check if next word must be capitalized in the output text\n",
        "  for word in word2capitalize:\n",
        "    if next_word == word.lower():\n",
        "      # Replace the generated word with the capitalized version\n",
        "      next_word = word\n",
        "      break\n",
        "\n",
        "  # Check if previous word is newline (i.e. the generated word belongs to a new line) or a dot\n",
        "  if prev_word == '\\n' or prev_word == '.':\n",
        "    # Capitalize the first letter of the generated word\n",
        "    next_word = next_word[0].upper() + next_word[1:]\n",
        "  \n",
        "  # Check if previous word is newline or a parenthesis or next word is newline or punctuation\n",
        "  if prev_word == '\\n' or prev_word == '(' or next_word == '\\n' or next_word in punctuation_subset:\n",
        "    if next_word == '\\n':\n",
        "      # Update generated lines\n",
        "      lines += 1\n",
        "\n",
        "      # Check if the number of lines has been achieved\n",
        "      if lines == LINES:\n",
        "        break\n",
        "\n",
        "    # Add the generated word to the output text without prepending a space\n",
        "    text += next_word\n",
        "\n",
        "  else:\n",
        "    # Add the generated word to the output text prepending a space\n",
        "    text += ' ' + next_word\n",
        "\n",
        "  prev_word = next_word\n",
        "  generated_words += 1\n",
        "\n",
        "\n",
        "print(\"Word:\", input_words)\n",
        "print(\"Genre:\", genre)\n",
        "print(\"\\nlines:\", LINES)\n",
        "print(\"generated words:\", generated_words)\n",
        "print(\"\\nLyrics:\")\n",
        "print(text)"
      ],
      "execution_count": 109,
      "outputs": [
        {
          "output_type": "stream",
          "name": "stdout",
          "text": [
            "Word: ['saturday']\n",
            "Genre: Rock\n",
            "\n",
            "lines: 27\n",
            "generated words: 233\n",
            "\n",
            "Lyrics:\n",
            "Saturday night\n",
            "In the midnight room for the street\n",
            "She walked dressed to themselves\n",
            "You should have took her away, in a call as she cried for me\n",
            "I was given to: about your mom. Punisher's bad news\n",
            "You living why a girl I told you before\n",
            "Don't you think that's the world?\n",
            "Black space, smells blue?\n",
            "There was her name and way: to the father french, out of the albums\n",
            "Bring your blood underneath your gut bare\n",
            "If you move your house\n",
            "Don't know me\n",
            "No I don't really want I love you (just make you to catch me!)\n",
            "She's in the zone\n",
            "I don't need you, half souls, forgive me, or nothing\n",
            "\n",
            "You could ever leave it\n",
            "When all fired this ray right into town\n",
            "I don't even dream, fuck, step in my limousine\n",
            "I can swear your ways\n",
            "And leave me the questions I will know you are ready\n",
            "In the wonderful dream\n",
            "I like my real strange skies would tell me to find that girl I laid to rest\n",
            "On the telephone I just steal trouble\n",
            "My whole loving life\n",
            "Though it's over, I can't go back\n",
            "\n"
          ]
        }
      ]
    }
  ]
}