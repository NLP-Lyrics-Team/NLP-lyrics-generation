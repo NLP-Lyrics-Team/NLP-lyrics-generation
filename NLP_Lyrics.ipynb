{
  "nbformat": 4,
  "nbformat_minor": 0,
  "metadata": {
    "accelerator": "GPU",
    "colab": {
      "name": "NLP-Lyrics.ipynb",
      "provenance": [],
      "collapsed_sections": [
        "Ug1e9bAP-I3L",
        "jm6NaZ5eI030"
      ],
      "toc_visible": true
    },
    "kernelspec": {
      "display_name": "Python 3",
      "name": "python3"
    }
  },
  "cells": [
    {
      "cell_type": "markdown",
      "metadata": {
        "id": "i--n2RiI0p_5"
      },
      "source": [
        "# Data preparation and preprocessing"
      ]
    },
    {
      "cell_type": "code",
      "metadata": {
        "colab": {
          "base_uri": "https://localhost:8080/"
        },
        "id": "7Fg-dw1CoAgY",
        "outputId": "e9fb3618-5b37-4ad7-8104-9bbd5c85bcab"
      },
      "source": [
        "import tensorflow as tf\n",
        "\n",
        "import numpy as np\n",
        "import pandas as pd\n",
        "import os\n",
        "import time\n",
        "\n",
        "device_name = tf.test.gpu_device_name()# The device name should look like the following:\n",
        "if device_name == '/device:GPU:0':\n",
        "    print('Found GPU at: {}'.format(device_name))\n",
        "else:\n",
        "    raise SystemError('GPU device not found')\n",
        "\n",
        "AUTOTUNE = tf.data.experimental.AUTOTUNE"
      ],
      "execution_count": 1,
      "outputs": [
        {
          "output_type": "stream",
          "text": [
            "Found GPU at: /device:GPU:0\n"
          ],
          "name": "stdout"
        }
      ]
    },
    {
      "cell_type": "markdown",
      "metadata": {
        "id": "lpFF4U9L04Q0"
      },
      "source": [
        "## Load Dataset"
      ]
    },
    {
      "cell_type": "code",
      "metadata": {
        "colab": {
          "base_uri": "https://localhost:8080/"
        },
        "id": "LdhEVuC3pS62",
        "outputId": "a50a07f2-e06c-4aa8-f5e1-0b388721a9ac"
      },
      "source": [
        "from google.colab import drive\n",
        "drive.mount('/content/drive')\n",
        "\n",
        "path_to_file = '/content/drive/MyDrive/Lyrics_generator/english_cleaned_lyrics.csv'"
      ],
      "execution_count": 2,
      "outputs": [
        {
          "output_type": "stream",
          "text": [
            "Mounted at /content/drive\n"
          ],
          "name": "stdout"
        }
      ]
    },
    {
      "cell_type": "code",
      "metadata": {
        "colab": {
          "base_uri": "https://localhost:8080/"
        },
        "id": "JuequEQSrLDn",
        "outputId": "15fb3c37-87f9-482a-b2b5-a98483b724bf"
      },
      "source": [
        "# Load CSV data\n",
        "data = pd.read_csv(path_to_file)\n",
        "pd.set_option('display.max_columns', None)\n",
        "pd.set_option('display.max_rows', None)\n",
        "\n",
        "# Select the columns: lyrics and genre\n",
        "# columns = ['index', 'song', 'artist', 'year']\n",
        "\n",
        "# data.drop(columns, inplace=True, axis=1)\n",
        "#data.drop(data.columns[[0]], axis=1, inplace=True)\n",
        "\n",
        "data = data[['lyrics', 'genre']]\n",
        "\n",
        "#print(lyrics[:10])\n",
        "#print(genre[:10])\n",
        "print(data[:10])"
      ],
      "execution_count": 3,
      "outputs": [
        {
          "output_type": "stream",
          "text": [
            "                                              lyrics genre\n",
            "0  Oh baby how you doing You know I'm gonna cut r...   Pop\n",
            "1  playin everything so easy it's like you seem s...   Pop\n",
            "2  If you search For tenderness It isn't hard to ...   Pop\n",
            "3  Oh oh oh I oh oh oh I If I wrote a book about ...   Pop\n",
            "4  Party the people the people the party it's pop...   Pop\n",
            "5  I heard Church bells ringing I heard A choir s...   Pop\n",
            "6  This is just another day that I would spend Wa...   Pop\n",
            "7  Waiting waiting waiting waiting Waiting waitin...   Pop\n",
            "8   I read all of the magazines while waiting aro...   Pop\n",
            "9  N n now honey You better sit down and look aro...   Pop\n"
          ],
          "name": "stdout"
        }
      ]
    },
    {
      "cell_type": "markdown",
      "metadata": {
        "id": "05dujcCk7-9u"
      },
      "source": [
        "## Preprocess and split dataset"
      ]
    },
    {
      "cell_type": "code",
      "metadata": {
        "id": "6ZOKUwkJw8mz",
        "colab": {
          "base_uri": "https://localhost:8080/"
        },
        "outputId": "67509cc0-7ff7-4957-c2e9-667a9e65eb97"
      },
      "source": [
        "# Lower\n",
        "def lyrics_preprocessing(lyrics_text):\n",
        "    return lyrics_text.lower() #.split()\n",
        "\n",
        "data['lyrics'] = data['lyrics'].apply(lyrics_preprocessing)\n",
        "\n",
        "\n",
        "\n",
        "# One Hot encoding\n",
        "data = pd.get_dummies(data, columns=['genre'])\n",
        "\n",
        "#print(data[:10])\n",
        "\n",
        "lyrics = data[['lyrics']]\n",
        "genre = data.iloc[:, 1:]\n",
        "\n",
        "print(lyrics[:10])\n",
        "print(genre[:10])"
      ],
      "execution_count": 4,
      "outputs": [
        {
          "output_type": "stream",
          "text": [
            "                                              lyrics\n",
            "0  oh baby how you doing you know i'm gonna cut r...\n",
            "1  playin everything so easy it's like you seem s...\n",
            "2  if you search for tenderness it isn't hard to ...\n",
            "3  oh oh oh i oh oh oh i if i wrote a book about ...\n",
            "4  party the people the people the party it's pop...\n",
            "5  i heard church bells ringing i heard a choir s...\n",
            "6  this is just another day that i would spend wa...\n",
            "7  waiting waiting waiting waiting waiting waitin...\n",
            "8   i read all of the magazines while waiting aro...\n",
            "9  n n now honey you better sit down and look aro...\n",
            "   genre_Country  genre_Electronic  genre_Folk  genre_Hip-Hop  genre_Indie  \\\n",
            "0              0                 0           0              0            0   \n",
            "1              0                 0           0              0            0   \n",
            "2              0                 0           0              0            0   \n",
            "3              0                 0           0              0            0   \n",
            "4              0                 0           0              0            0   \n",
            "5              0                 0           0              0            0   \n",
            "6              0                 0           0              0            0   \n",
            "7              0                 0           0              0            0   \n",
            "8              0                 0           0              0            0   \n",
            "9              0                 0           0              0            0   \n",
            "\n",
            "   genre_Jazz  genre_Metal  genre_Other  genre_Pop  genre_R&B  genre_Rock  \n",
            "0           0            0            0          1          0           0  \n",
            "1           0            0            0          1          0           0  \n",
            "2           0            0            0          1          0           0  \n",
            "3           0            0            0          1          0           0  \n",
            "4           0            0            0          1          0           0  \n",
            "5           0            0            0          1          0           0  \n",
            "6           0            0            0          1          0           0  \n",
            "7           0            0            0          1          0           0  \n",
            "8           0            0            0          1          0           0  \n",
            "9           0            0            0          1          0           0  \n"
          ],
          "name": "stdout"
        }
      ]
    },
    {
      "cell_type": "markdown",
      "metadata": {
        "id": "0Dk5OpaU3leU"
      },
      "source": [
        "# Nuovo Tutorial TF\n"
      ]
    },
    {
      "cell_type": "code",
      "metadata": {
        "colab": {
          "base_uri": "https://localhost:8080/"
        },
        "id": "vQ59Jj9e3qPV",
        "outputId": "e6404c49-72c7-49d6-dae0-01270245b02a"
      },
      "source": [
        "def split_l(x):\n",
        "  splitted = x.split()[:6]\n",
        "  if len(splitted) < 6: \n",
        "    return None\n",
        "  else:\n",
        "    return \" \".join(splitted)\n",
        "\n",
        "'''nan_values = l.isna()\n",
        "nan_columns = nan_values.any()\n",
        "print(\"Prima: \", nan_columns)'''\n",
        "\n",
        "l = data['lyrics'].apply(split_l)\n",
        "l.dropna(axis=0, inplace=True)\n",
        "\n",
        "'''nan_values = l.isna()\n",
        "nan_columns = nan_values.any()\n",
        "print(\"Dopo: \", nan_columns)'''\n",
        "#print(\"Dopo: \", l.shape)\n",
        "\n",
        "tokens = tf.strings.split(l)\n",
        "\n",
        "#tokens = data['lyrics'].apply(lambda t: tf.strings.split(t, maxsplit=5))\n",
        "\n",
        "tokens[:10]"
      ],
      "execution_count": 5,
      "outputs": [
        {
          "output_type": "execute_result",
          "data": {
            "text/plain": [
              "<tf.RaggedTensor [[b'oh', b'baby', b'how', b'you', b'doing', b'you'], [b'playin', b'everything', b'so', b'easy', b\"it's\", b'like'], [b'if', b'you', b'search', b'for', b'tenderness', b'it'], [b'oh', b'oh', b'oh', b'i', b'oh', b'oh'], [b'party', b'the', b'people', b'the', b'people', b'the'], [b'i', b'heard', b'church', b'bells', b'ringing', b'i'], [b'this', b'is', b'just', b'another', b'day', b'that'], [b'waiting', b'waiting', b'waiting', b'waiting', b'waiting', b'waiting'], [b'i', b'read', b'all', b'of', b'the', b'magazines'], [b'n', b'n', b'now', b'honey', b'you', b'better']]>"
            ]
          },
          "metadata": {
            "tags": []
          },
          "execution_count": 5
        }
      ]
    },
    {
      "cell_type": "code",
      "metadata": {
        "id": "WLQNpuPCMTJ2",
        "colab": {
          "base_uri": "https://localhost:8080/"
        },
        "outputId": "2ba2c17a-c933-4989-8979-7a38e7b1453a"
      },
      "source": [
        "from tensorflow.keras.layers.experimental.preprocessing import StringLookup\n",
        "\n",
        "#lyrics_tensor = tf.convert_to_tensor(data['lyrics'].tolist())\n",
        "\n",
        "layer = StringLookup()\n",
        "layer.adapt(tokens)\n",
        "vocab = layer.get_vocabulary()\n",
        "\n",
        "vocab[:10]"
      ],
      "execution_count": 6,
      "outputs": [
        {
          "output_type": "execute_result",
          "data": {
            "text/plain": [
              "['', '[UNK]', 'the', 'i', 'you', 'a', 'to', 'in', 'and', 'my']"
            ]
          },
          "metadata": {
            "tags": []
          },
          "execution_count": 6
        }
      ]
    },
    {
      "cell_type": "code",
      "metadata": {
        "id": "J6F-Gul7DFRh",
        "colab": {
          "base_uri": "https://localhost:8080/"
        },
        "outputId": "9d92ab82-b76e-4f19-8df3-92692023623b"
      },
      "source": [
        "ids_from_words = layer(tokens)\n",
        "#ids_from_words = StringLookup(vocabulary=list(vocab))\n",
        "\n",
        "\n",
        "ids_from_words[:2]\n",
        "#ids = ids_from_words(tokens)\n",
        "#ids[:2]"
      ],
      "execution_count": 7,
      "outputs": [
        {
          "output_type": "execute_result",
          "data": {
            "text/plain": [
              "<tf.RaggedTensor [[29, 58, 66, 4, 608, 4], [1982, 171, 27, 322, 23, 32]]>"
            ]
          },
          "metadata": {
            "tags": []
          },
          "execution_count": 7
        }
      ]
    },
    {
      "cell_type": "code",
      "metadata": {
        "colab": {
          "base_uri": "https://localhost:8080/"
        },
        "id": "BCnvxzz1NjnZ",
        "outputId": "5e08e9cf-376f-44bf-d2da-0c08eb864859"
      },
      "source": [
        "words_from_ids = StringLookup(\n",
        "    vocabulary=layer.get_vocabulary(), invert=True)\n",
        "#words_from_ids = StringLookup(\n",
        "#    vocabulary=ids_from_words.get_vocabulary(), invert=True)\n",
        "\n",
        "words = words_from_ids(ids_from_words)\n",
        "#words = words_from_ids(ids)\n",
        "words[:10]"
      ],
      "execution_count": 8,
      "outputs": [
        {
          "output_type": "execute_result",
          "data": {
            "text/plain": [
              "<tf.RaggedTensor [[b'oh', b'baby', b'how', b'you', b'doing', b'you'], [b'playin', b'everything', b'so', b'easy', b\"it's\", b'like'], [b'if', b'you', b'search', b'for', b'tenderness', b'it'], [b'oh', b'oh', b'oh', b'i', b'oh', b'oh'], [b'party', b'the', b'people', b'the', b'people', b'the'], [b'i', b'heard', b'church', b'bells', b'ringing', b'i'], [b'this', b'is', b'just', b'another', b'day', b'that'], [b'waiting', b'waiting', b'waiting', b'waiting', b'waiting', b'waiting'], [b'i', b'read', b'all', b'of', b'the', b'magazines'], [b'n', b'n', b'now', b'honey', b'you', b'better']]>"
            ]
          },
          "metadata": {
            "tags": []
          },
          "execution_count": 8
        }
      ]
    },
    {
      "cell_type": "code",
      "metadata": {
        "id": "hmcT-I0rRkh1"
      },
      "source": [
        "def text_from_ids(ids):\n",
        "  return tf.strings.reduce_join(words_from_ids(ids), axis=-1, separator=' ')"
      ],
      "execution_count": 9,
      "outputs": []
    },
    {
      "cell_type": "code",
      "metadata": {
        "colab": {
          "base_uri": "https://localhost:8080/"
        },
        "id": "_cojciCsRlvL",
        "outputId": "b6bedef8-9448-4b5d-a196-c996660b03b1"
      },
      "source": [
        "#seq_length = 32\n",
        "\n",
        "#sequences = ids_from_words.batch(seq_length, drop_remainder=True)\n",
        "\n",
        "sequences = tf.data.Dataset.from_tensor_slices(ids_from_words)\n",
        "#sequences = tf.data.Dataset.from_tensor_slices(ids)\n",
        "\n",
        "def split_input_target(sequence):\n",
        "    input_text = sequence[:-1]\n",
        "    target_text = sequence[1:]\n",
        "    return input_text, target_text\n",
        "\n",
        "dataset = sequences.map(split_input_target)\n",
        "\n",
        "for input_example, target_example in  dataset.take(1):\n",
        "    print(\"Input :\", text_from_ids(input_example).numpy())\n",
        "    print(\"Target:\", text_from_ids(target_example).numpy())"
      ],
      "execution_count": 10,
      "outputs": [
        {
          "output_type": "stream",
          "text": [
            "Input : b'oh baby how you doing'\n",
            "Target: b'baby how you doing you'\n"
          ],
          "name": "stdout"
        }
      ]
    },
    {
      "cell_type": "markdown",
      "metadata": {
        "id": "CZkn-TURozdv"
      },
      "source": [
        "DA qui in poi abbiamo copiato senza verificare il codice"
      ]
    },
    {
      "cell_type": "code",
      "metadata": {
        "colab": {
          "base_uri": "https://localhost:8080/"
        },
        "id": "Oprq4IKzosnB",
        "outputId": "a9d5ff46-af7a-42cb-a6d0-6c49a5c08675"
      },
      "source": [
        "# Batch size\n",
        "BATCH_SIZE = 64\n",
        "\n",
        "# Buffer size to shuffle the dataset\n",
        "# (TF data is designed to work with possibly infinite sequences,\n",
        "# so it doesn't attempt to shuffle the entire sequence in memory. Instead,\n",
        "# it maintains a buffer in which it shuffles elements).\n",
        "BUFFER_SIZE = 10000\n",
        "\n",
        "dataset = (\n",
        "    dataset\n",
        "    .shuffle(BUFFER_SIZE)\n",
        "    .batch(BATCH_SIZE, drop_remainder=True)\n",
        "    .prefetch(tf.data.experimental.AUTOTUNE))\n",
        "\n",
        "dataset"
      ],
      "execution_count": 11,
      "outputs": [
        {
          "output_type": "execute_result",
          "data": {
            "text/plain": [
              "<PrefetchDataset shapes: ((64, None), (64, None)), types: (tf.int64, tf.int64)>"
            ]
          },
          "metadata": {
            "tags": []
          },
          "execution_count": 11
        }
      ]
    },
    {
      "cell_type": "code",
      "metadata": {
        "id": "ZzFnU_r8owkX"
      },
      "source": [
        "# Length of the vocabulary in chars\n",
        "vocab_size = len(vocab)\n",
        "\n",
        "# The embedding dimension\n",
        "embedding_dim = 256\n",
        "\n",
        "# Number of RNN units\n",
        "rnn_units = 1024\n"
      ],
      "execution_count": 12,
      "outputs": []
    },
    {
      "cell_type": "code",
      "metadata": {
        "id": "YEp7FySKoxyr"
      },
      "source": [
        "class MyModel(tf.keras.Model):\n",
        "  def __init__(self, vocab_size, embedding_dim, rnn_units):\n",
        "    super().__init__(self)\n",
        "    self.embedding = tf.keras.layers.Embedding(vocab_size, embedding_dim)\n",
        "    self.gru = tf.keras.layers.GRU(rnn_units,\n",
        "                                   return_sequences=True, \n",
        "                                   return_state=True)\n",
        "    self.dense = tf.keras.layers.Dense(vocab_size)\n",
        "\n",
        "  def call(self, inputs, states=None, return_state=False, training=False):\n",
        "    x = inputs\n",
        "    x = self.embedding(x, training=training)\n",
        "    if states is None:\n",
        "      states = self.gru.get_initial_state(x)\n",
        "    x, states = self.gru(x, initial_state=states, training=training)\n",
        "    x = self.dense(x, training=training)\n",
        "\n",
        "    if return_state:\n",
        "      return x, states\n",
        "    else: \n",
        "      return x"
      ],
      "execution_count": 13,
      "outputs": []
    },
    {
      "cell_type": "code",
      "metadata": {
        "id": "_HKsRUUwo70P"
      },
      "source": [
        "model = MyModel(\n",
        "    # Be sure the vocabulary size matches the `StringLookup` layers.\n",
        "    vocab_size=len(vocab),\n",
        "    embedding_dim=embedding_dim,\n",
        "    rnn_units=rnn_units)\n"
      ],
      "execution_count": 14,
      "outputs": []
    },
    {
      "cell_type": "code",
      "metadata": {
        "colab": {
          "base_uri": "https://localhost:8080/"
        },
        "id": "AxuLEvOlpLS4",
        "outputId": "d068b8bb-6d64-4c48-8d6c-4009e74673c5"
      },
      "source": [
        "#for input_example_batch, target_example_batch in dataset.take(1):\n",
        "for input_example_batch, target_example_batch in dataset.take(15*BATCH_SIZE):\n",
        "    example_batch_predictions = model(input_example_batch)\n",
        "    print(example_batch_predictions.shape, \"# (batch_size, sequence_length, vocab_size)\")\n"
      ],
      "execution_count": 15,
      "outputs": [
        {
          "output_type": "stream",
          "text": [
            "(64, 5, 36279) # (batch_size, sequence_length, vocab_size)\n",
            "(64, 5, 36279) # (batch_size, sequence_length, vocab_size)\n",
            "(64, 5, 36279) # (batch_size, sequence_length, vocab_size)\n",
            "(64, 5, 36279) # (batch_size, sequence_length, vocab_size)\n",
            "(64, 5, 36279) # (batch_size, sequence_length, vocab_size)\n",
            "(64, 5, 36279) # (batch_size, sequence_length, vocab_size)\n",
            "(64, 5, 36279) # (batch_size, sequence_length, vocab_size)\n",
            "(64, 5, 36279) # (batch_size, sequence_length, vocab_size)\n",
            "(64, 5, 36279) # (batch_size, sequence_length, vocab_size)\n",
            "(64, 5, 36279) # (batch_size, sequence_length, vocab_size)\n",
            "(64, 5, 36279) # (batch_size, sequence_length, vocab_size)\n",
            "(64, 5, 36279) # (batch_size, sequence_length, vocab_size)\n",
            "(64, 5, 36279) # (batch_size, sequence_length, vocab_size)\n",
            "(64, 5, 36279) # (batch_size, sequence_length, vocab_size)\n",
            "(64, 5, 36279) # (batch_size, sequence_length, vocab_size)\n",
            "(64, 5, 36279) # (batch_size, sequence_length, vocab_size)\n",
            "(64, 5, 36279) # (batch_size, sequence_length, vocab_size)\n",
            "(64, 5, 36279) # (batch_size, sequence_length, vocab_size)\n",
            "(64, 5, 36279) # (batch_size, sequence_length, vocab_size)\n",
            "(64, 5, 36279) # (batch_size, sequence_length, vocab_size)\n",
            "(64, 5, 36279) # (batch_size, sequence_length, vocab_size)\n",
            "(64, 5, 36279) # (batch_size, sequence_length, vocab_size)\n",
            "(64, 5, 36279) # (batch_size, sequence_length, vocab_size)\n",
            "(64, 5, 36279) # (batch_size, sequence_length, vocab_size)\n",
            "(64, 5, 36279) # (batch_size, sequence_length, vocab_size)\n",
            "(64, 5, 36279) # (batch_size, sequence_length, vocab_size)\n",
            "(64, 5, 36279) # (batch_size, sequence_length, vocab_size)\n",
            "(64, 5, 36279) # (batch_size, sequence_length, vocab_size)\n",
            "(64, 5, 36279) # (batch_size, sequence_length, vocab_size)\n",
            "(64, 5, 36279) # (batch_size, sequence_length, vocab_size)\n",
            "(64, 5, 36279) # (batch_size, sequence_length, vocab_size)\n",
            "(64, 5, 36279) # (batch_size, sequence_length, vocab_size)\n",
            "(64, 5, 36279) # (batch_size, sequence_length, vocab_size)\n",
            "(64, 5, 36279) # (batch_size, sequence_length, vocab_size)\n",
            "(64, 5, 36279) # (batch_size, sequence_length, vocab_size)\n",
            "(64, 5, 36279) # (batch_size, sequence_length, vocab_size)\n",
            "(64, 5, 36279) # (batch_size, sequence_length, vocab_size)\n",
            "(64, 5, 36279) # (batch_size, sequence_length, vocab_size)\n",
            "(64, 5, 36279) # (batch_size, sequence_length, vocab_size)\n",
            "(64, 5, 36279) # (batch_size, sequence_length, vocab_size)\n",
            "(64, 5, 36279) # (batch_size, sequence_length, vocab_size)\n",
            "(64, 5, 36279) # (batch_size, sequence_length, vocab_size)\n",
            "(64, 5, 36279) # (batch_size, sequence_length, vocab_size)\n",
            "(64, 5, 36279) # (batch_size, sequence_length, vocab_size)\n",
            "(64, 5, 36279) # (batch_size, sequence_length, vocab_size)\n",
            "(64, 5, 36279) # (batch_size, sequence_length, vocab_size)\n",
            "(64, 5, 36279) # (batch_size, sequence_length, vocab_size)\n",
            "(64, 5, 36279) # (batch_size, sequence_length, vocab_size)\n",
            "(64, 5, 36279) # (batch_size, sequence_length, vocab_size)\n",
            "(64, 5, 36279) # (batch_size, sequence_length, vocab_size)\n",
            "(64, 5, 36279) # (batch_size, sequence_length, vocab_size)\n",
            "(64, 5, 36279) # (batch_size, sequence_length, vocab_size)\n",
            "(64, 5, 36279) # (batch_size, sequence_length, vocab_size)\n",
            "(64, 5, 36279) # (batch_size, sequence_length, vocab_size)\n",
            "(64, 5, 36279) # (batch_size, sequence_length, vocab_size)\n",
            "(64, 5, 36279) # (batch_size, sequence_length, vocab_size)\n",
            "(64, 5, 36279) # (batch_size, sequence_length, vocab_size)\n",
            "(64, 5, 36279) # (batch_size, sequence_length, vocab_size)\n",
            "(64, 5, 36279) # (batch_size, sequence_length, vocab_size)\n",
            "(64, 5, 36279) # (batch_size, sequence_length, vocab_size)\n",
            "(64, 5, 36279) # (batch_size, sequence_length, vocab_size)\n",
            "(64, 5, 36279) # (batch_size, sequence_length, vocab_size)\n",
            "(64, 5, 36279) # (batch_size, sequence_length, vocab_size)\n",
            "(64, 5, 36279) # (batch_size, sequence_length, vocab_size)\n",
            "(64, 5, 36279) # (batch_size, sequence_length, vocab_size)\n",
            "(64, 5, 36279) # (batch_size, sequence_length, vocab_size)\n",
            "(64, 5, 36279) # (batch_size, sequence_length, vocab_size)\n",
            "(64, 5, 36279) # (batch_size, sequence_length, vocab_size)\n",
            "(64, 5, 36279) # (batch_size, sequence_length, vocab_size)\n",
            "(64, 5, 36279) # (batch_size, sequence_length, vocab_size)\n",
            "(64, 5, 36279) # (batch_size, sequence_length, vocab_size)\n",
            "(64, 5, 36279) # (batch_size, sequence_length, vocab_size)\n",
            "(64, 5, 36279) # (batch_size, sequence_length, vocab_size)\n",
            "(64, 5, 36279) # (batch_size, sequence_length, vocab_size)\n",
            "(64, 5, 36279) # (batch_size, sequence_length, vocab_size)\n",
            "(64, 5, 36279) # (batch_size, sequence_length, vocab_size)\n",
            "(64, 5, 36279) # (batch_size, sequence_length, vocab_size)\n",
            "(64, 5, 36279) # (batch_size, sequence_length, vocab_size)\n",
            "(64, 5, 36279) # (batch_size, sequence_length, vocab_size)\n",
            "(64, 5, 36279) # (batch_size, sequence_length, vocab_size)\n",
            "(64, 5, 36279) # (batch_size, sequence_length, vocab_size)\n",
            "(64, 5, 36279) # (batch_size, sequence_length, vocab_size)\n",
            "(64, 5, 36279) # (batch_size, sequence_length, vocab_size)\n",
            "(64, 5, 36279) # (batch_size, sequence_length, vocab_size)\n",
            "(64, 5, 36279) # (batch_size, sequence_length, vocab_size)\n",
            "(64, 5, 36279) # (batch_size, sequence_length, vocab_size)\n",
            "(64, 5, 36279) # (batch_size, sequence_length, vocab_size)\n",
            "(64, 5, 36279) # (batch_size, sequence_length, vocab_size)\n",
            "(64, 5, 36279) # (batch_size, sequence_length, vocab_size)\n",
            "(64, 5, 36279) # (batch_size, sequence_length, vocab_size)\n",
            "(64, 5, 36279) # (batch_size, sequence_length, vocab_size)\n",
            "(64, 5, 36279) # (batch_size, sequence_length, vocab_size)\n",
            "(64, 5, 36279) # (batch_size, sequence_length, vocab_size)\n",
            "(64, 5, 36279) # (batch_size, sequence_length, vocab_size)\n",
            "(64, 5, 36279) # (batch_size, sequence_length, vocab_size)\n",
            "(64, 5, 36279) # (batch_size, sequence_length, vocab_size)\n",
            "(64, 5, 36279) # (batch_size, sequence_length, vocab_size)\n",
            "(64, 5, 36279) # (batch_size, sequence_length, vocab_size)\n",
            "(64, 5, 36279) # (batch_size, sequence_length, vocab_size)\n",
            "(64, 5, 36279) # (batch_size, sequence_length, vocab_size)\n",
            "(64, 5, 36279) # (batch_size, sequence_length, vocab_size)\n",
            "(64, 5, 36279) # (batch_size, sequence_length, vocab_size)\n",
            "(64, 5, 36279) # (batch_size, sequence_length, vocab_size)\n",
            "(64, 5, 36279) # (batch_size, sequence_length, vocab_size)\n",
            "(64, 5, 36279) # (batch_size, sequence_length, vocab_size)\n",
            "(64, 5, 36279) # (batch_size, sequence_length, vocab_size)\n",
            "(64, 5, 36279) # (batch_size, sequence_length, vocab_size)\n",
            "(64, 5, 36279) # (batch_size, sequence_length, vocab_size)\n",
            "(64, 5, 36279) # (batch_size, sequence_length, vocab_size)\n",
            "(64, 5, 36279) # (batch_size, sequence_length, vocab_size)\n",
            "(64, 5, 36279) # (batch_size, sequence_length, vocab_size)\n",
            "(64, 5, 36279) # (batch_size, sequence_length, vocab_size)\n",
            "(64, 5, 36279) # (batch_size, sequence_length, vocab_size)\n",
            "(64, 5, 36279) # (batch_size, sequence_length, vocab_size)\n",
            "(64, 5, 36279) # (batch_size, sequence_length, vocab_size)\n",
            "(64, 5, 36279) # (batch_size, sequence_length, vocab_size)\n",
            "(64, 5, 36279) # (batch_size, sequence_length, vocab_size)\n",
            "(64, 5, 36279) # (batch_size, sequence_length, vocab_size)\n",
            "(64, 5, 36279) # (batch_size, sequence_length, vocab_size)\n",
            "(64, 5, 36279) # (batch_size, sequence_length, vocab_size)\n",
            "(64, 5, 36279) # (batch_size, sequence_length, vocab_size)\n",
            "(64, 5, 36279) # (batch_size, sequence_length, vocab_size)\n",
            "(64, 5, 36279) # (batch_size, sequence_length, vocab_size)\n",
            "(64, 5, 36279) # (batch_size, sequence_length, vocab_size)\n",
            "(64, 5, 36279) # (batch_size, sequence_length, vocab_size)\n",
            "(64, 5, 36279) # (batch_size, sequence_length, vocab_size)\n",
            "(64, 5, 36279) # (batch_size, sequence_length, vocab_size)\n",
            "(64, 5, 36279) # (batch_size, sequence_length, vocab_size)\n",
            "(64, 5, 36279) # (batch_size, sequence_length, vocab_size)\n",
            "(64, 5, 36279) # (batch_size, sequence_length, vocab_size)\n",
            "(64, 5, 36279) # (batch_size, sequence_length, vocab_size)\n",
            "(64, 5, 36279) # (batch_size, sequence_length, vocab_size)\n",
            "(64, 5, 36279) # (batch_size, sequence_length, vocab_size)\n",
            "(64, 5, 36279) # (batch_size, sequence_length, vocab_size)\n",
            "(64, 5, 36279) # (batch_size, sequence_length, vocab_size)\n",
            "(64, 5, 36279) # (batch_size, sequence_length, vocab_size)\n",
            "(64, 5, 36279) # (batch_size, sequence_length, vocab_size)\n",
            "(64, 5, 36279) # (batch_size, sequence_length, vocab_size)\n",
            "(64, 5, 36279) # (batch_size, sequence_length, vocab_size)\n",
            "(64, 5, 36279) # (batch_size, sequence_length, vocab_size)\n",
            "(64, 5, 36279) # (batch_size, sequence_length, vocab_size)\n",
            "(64, 5, 36279) # (batch_size, sequence_length, vocab_size)\n",
            "(64, 5, 36279) # (batch_size, sequence_length, vocab_size)\n",
            "(64, 5, 36279) # (batch_size, sequence_length, vocab_size)\n",
            "(64, 5, 36279) # (batch_size, sequence_length, vocab_size)\n",
            "(64, 5, 36279) # (batch_size, sequence_length, vocab_size)\n",
            "(64, 5, 36279) # (batch_size, sequence_length, vocab_size)\n",
            "(64, 5, 36279) # (batch_size, sequence_length, vocab_size)\n",
            "(64, 5, 36279) # (batch_size, sequence_length, vocab_size)\n",
            "(64, 5, 36279) # (batch_size, sequence_length, vocab_size)\n",
            "(64, 5, 36279) # (batch_size, sequence_length, vocab_size)\n",
            "(64, 5, 36279) # (batch_size, sequence_length, vocab_size)\n",
            "(64, 5, 36279) # (batch_size, sequence_length, vocab_size)\n",
            "(64, 5, 36279) # (batch_size, sequence_length, vocab_size)\n",
            "(64, 5, 36279) # (batch_size, sequence_length, vocab_size)\n",
            "(64, 5, 36279) # (batch_size, sequence_length, vocab_size)\n",
            "(64, 5, 36279) # (batch_size, sequence_length, vocab_size)\n",
            "(64, 5, 36279) # (batch_size, sequence_length, vocab_size)\n",
            "(64, 5, 36279) # (batch_size, sequence_length, vocab_size)\n",
            "(64, 5, 36279) # (batch_size, sequence_length, vocab_size)\n",
            "(64, 5, 36279) # (batch_size, sequence_length, vocab_size)\n",
            "(64, 5, 36279) # (batch_size, sequence_length, vocab_size)\n",
            "(64, 5, 36279) # (batch_size, sequence_length, vocab_size)\n",
            "(64, 5, 36279) # (batch_size, sequence_length, vocab_size)\n",
            "(64, 5, 36279) # (batch_size, sequence_length, vocab_size)\n",
            "(64, 5, 36279) # (batch_size, sequence_length, vocab_size)\n",
            "(64, 5, 36279) # (batch_size, sequence_length, vocab_size)\n",
            "(64, 5, 36279) # (batch_size, sequence_length, vocab_size)\n",
            "(64, 5, 36279) # (batch_size, sequence_length, vocab_size)\n",
            "(64, 5, 36279) # (batch_size, sequence_length, vocab_size)\n",
            "(64, 5, 36279) # (batch_size, sequence_length, vocab_size)\n",
            "(64, 5, 36279) # (batch_size, sequence_length, vocab_size)\n",
            "(64, 5, 36279) # (batch_size, sequence_length, vocab_size)\n",
            "(64, 5, 36279) # (batch_size, sequence_length, vocab_size)\n",
            "(64, 5, 36279) # (batch_size, sequence_length, vocab_size)\n",
            "(64, 5, 36279) # (batch_size, sequence_length, vocab_size)\n",
            "(64, 5, 36279) # (batch_size, sequence_length, vocab_size)\n",
            "(64, 5, 36279) # (batch_size, sequence_length, vocab_size)\n",
            "(64, 5, 36279) # (batch_size, sequence_length, vocab_size)\n",
            "(64, 5, 36279) # (batch_size, sequence_length, vocab_size)\n",
            "(64, 5, 36279) # (batch_size, sequence_length, vocab_size)\n",
            "(64, 5, 36279) # (batch_size, sequence_length, vocab_size)\n",
            "(64, 5, 36279) # (batch_size, sequence_length, vocab_size)\n",
            "(64, 5, 36279) # (batch_size, sequence_length, vocab_size)\n",
            "(64, 5, 36279) # (batch_size, sequence_length, vocab_size)\n",
            "(64, 5, 36279) # (batch_size, sequence_length, vocab_size)\n",
            "(64, 5, 36279) # (batch_size, sequence_length, vocab_size)\n",
            "(64, 5, 36279) # (batch_size, sequence_length, vocab_size)\n",
            "(64, 5, 36279) # (batch_size, sequence_length, vocab_size)\n",
            "(64, 5, 36279) # (batch_size, sequence_length, vocab_size)\n",
            "(64, 5, 36279) # (batch_size, sequence_length, vocab_size)\n",
            "(64, 5, 36279) # (batch_size, sequence_length, vocab_size)\n",
            "(64, 5, 36279) # (batch_size, sequence_length, vocab_size)\n",
            "(64, 5, 36279) # (batch_size, sequence_length, vocab_size)\n",
            "(64, 5, 36279) # (batch_size, sequence_length, vocab_size)\n",
            "(64, 5, 36279) # (batch_size, sequence_length, vocab_size)\n",
            "(64, 5, 36279) # (batch_size, sequence_length, vocab_size)\n",
            "(64, 5, 36279) # (batch_size, sequence_length, vocab_size)\n",
            "(64, 5, 36279) # (batch_size, sequence_length, vocab_size)\n",
            "(64, 5, 36279) # (batch_size, sequence_length, vocab_size)\n",
            "(64, 5, 36279) # (batch_size, sequence_length, vocab_size)\n",
            "(64, 5, 36279) # (batch_size, sequence_length, vocab_size)\n",
            "(64, 5, 36279) # (batch_size, sequence_length, vocab_size)\n",
            "(64, 5, 36279) # (batch_size, sequence_length, vocab_size)\n",
            "(64, 5, 36279) # (batch_size, sequence_length, vocab_size)\n",
            "(64, 5, 36279) # (batch_size, sequence_length, vocab_size)\n",
            "(64, 5, 36279) # (batch_size, sequence_length, vocab_size)\n",
            "(64, 5, 36279) # (batch_size, sequence_length, vocab_size)\n",
            "(64, 5, 36279) # (batch_size, sequence_length, vocab_size)\n",
            "(64, 5, 36279) # (batch_size, sequence_length, vocab_size)\n",
            "(64, 5, 36279) # (batch_size, sequence_length, vocab_size)\n",
            "(64, 5, 36279) # (batch_size, sequence_length, vocab_size)\n",
            "(64, 5, 36279) # (batch_size, sequence_length, vocab_size)\n",
            "(64, 5, 36279) # (batch_size, sequence_length, vocab_size)\n",
            "(64, 5, 36279) # (batch_size, sequence_length, vocab_size)\n",
            "(64, 5, 36279) # (batch_size, sequence_length, vocab_size)\n",
            "(64, 5, 36279) # (batch_size, sequence_length, vocab_size)\n",
            "(64, 5, 36279) # (batch_size, sequence_length, vocab_size)\n",
            "(64, 5, 36279) # (batch_size, sequence_length, vocab_size)\n",
            "(64, 5, 36279) # (batch_size, sequence_length, vocab_size)\n",
            "(64, 5, 36279) # (batch_size, sequence_length, vocab_size)\n",
            "(64, 5, 36279) # (batch_size, sequence_length, vocab_size)\n",
            "(64, 5, 36279) # (batch_size, sequence_length, vocab_size)\n",
            "(64, 5, 36279) # (batch_size, sequence_length, vocab_size)\n",
            "(64, 5, 36279) # (batch_size, sequence_length, vocab_size)\n",
            "(64, 5, 36279) # (batch_size, sequence_length, vocab_size)\n",
            "(64, 5, 36279) # (batch_size, sequence_length, vocab_size)\n",
            "(64, 5, 36279) # (batch_size, sequence_length, vocab_size)\n",
            "(64, 5, 36279) # (batch_size, sequence_length, vocab_size)\n",
            "(64, 5, 36279) # (batch_size, sequence_length, vocab_size)\n",
            "(64, 5, 36279) # (batch_size, sequence_length, vocab_size)\n",
            "(64, 5, 36279) # (batch_size, sequence_length, vocab_size)\n",
            "(64, 5, 36279) # (batch_size, sequence_length, vocab_size)\n",
            "(64, 5, 36279) # (batch_size, sequence_length, vocab_size)\n",
            "(64, 5, 36279) # (batch_size, sequence_length, vocab_size)\n",
            "(64, 5, 36279) # (batch_size, sequence_length, vocab_size)\n",
            "(64, 5, 36279) # (batch_size, sequence_length, vocab_size)\n",
            "(64, 5, 36279) # (batch_size, sequence_length, vocab_size)\n",
            "(64, 5, 36279) # (batch_size, sequence_length, vocab_size)\n",
            "(64, 5, 36279) # (batch_size, sequence_length, vocab_size)\n",
            "(64, 5, 36279) # (batch_size, sequence_length, vocab_size)\n",
            "(64, 5, 36279) # (batch_size, sequence_length, vocab_size)\n",
            "(64, 5, 36279) # (batch_size, sequence_length, vocab_size)\n",
            "(64, 5, 36279) # (batch_size, sequence_length, vocab_size)\n",
            "(64, 5, 36279) # (batch_size, sequence_length, vocab_size)\n",
            "(64, 5, 36279) # (batch_size, sequence_length, vocab_size)\n",
            "(64, 5, 36279) # (batch_size, sequence_length, vocab_size)\n",
            "(64, 5, 36279) # (batch_size, sequence_length, vocab_size)\n",
            "(64, 5, 36279) # (batch_size, sequence_length, vocab_size)\n",
            "(64, 5, 36279) # (batch_size, sequence_length, vocab_size)\n",
            "(64, 5, 36279) # (batch_size, sequence_length, vocab_size)\n",
            "(64, 5, 36279) # (batch_size, sequence_length, vocab_size)\n",
            "(64, 5, 36279) # (batch_size, sequence_length, vocab_size)\n",
            "(64, 5, 36279) # (batch_size, sequence_length, vocab_size)\n",
            "(64, 5, 36279) # (batch_size, sequence_length, vocab_size)\n",
            "(64, 5, 36279) # (batch_size, sequence_length, vocab_size)\n",
            "(64, 5, 36279) # (batch_size, sequence_length, vocab_size)\n",
            "(64, 5, 36279) # (batch_size, sequence_length, vocab_size)\n",
            "(64, 5, 36279) # (batch_size, sequence_length, vocab_size)\n",
            "(64, 5, 36279) # (batch_size, sequence_length, vocab_size)\n",
            "(64, 5, 36279) # (batch_size, sequence_length, vocab_size)\n",
            "(64, 5, 36279) # (batch_size, sequence_length, vocab_size)\n",
            "(64, 5, 36279) # (batch_size, sequence_length, vocab_size)\n",
            "(64, 5, 36279) # (batch_size, sequence_length, vocab_size)\n",
            "(64, 5, 36279) # (batch_size, sequence_length, vocab_size)\n",
            "(64, 5, 36279) # (batch_size, sequence_length, vocab_size)\n",
            "(64, 5, 36279) # (batch_size, sequence_length, vocab_size)\n",
            "(64, 5, 36279) # (batch_size, sequence_length, vocab_size)\n",
            "(64, 5, 36279) # (batch_size, sequence_length, vocab_size)\n",
            "(64, 5, 36279) # (batch_size, sequence_length, vocab_size)\n",
            "(64, 5, 36279) # (batch_size, sequence_length, vocab_size)\n",
            "(64, 5, 36279) # (batch_size, sequence_length, vocab_size)\n",
            "(64, 5, 36279) # (batch_size, sequence_length, vocab_size)\n",
            "(64, 5, 36279) # (batch_size, sequence_length, vocab_size)\n",
            "(64, 5, 36279) # (batch_size, sequence_length, vocab_size)\n",
            "(64, 5, 36279) # (batch_size, sequence_length, vocab_size)\n",
            "(64, 5, 36279) # (batch_size, sequence_length, vocab_size)\n",
            "(64, 5, 36279) # (batch_size, sequence_length, vocab_size)\n",
            "(64, 5, 36279) # (batch_size, sequence_length, vocab_size)\n",
            "(64, 5, 36279) # (batch_size, sequence_length, vocab_size)\n",
            "(64, 5, 36279) # (batch_size, sequence_length, vocab_size)\n",
            "(64, 5, 36279) # (batch_size, sequence_length, vocab_size)\n",
            "(64, 5, 36279) # (batch_size, sequence_length, vocab_size)\n",
            "(64, 5, 36279) # (batch_size, sequence_length, vocab_size)\n",
            "(64, 5, 36279) # (batch_size, sequence_length, vocab_size)\n",
            "(64, 5, 36279) # (batch_size, sequence_length, vocab_size)\n",
            "(64, 5, 36279) # (batch_size, sequence_length, vocab_size)\n",
            "(64, 5, 36279) # (batch_size, sequence_length, vocab_size)\n",
            "(64, 5, 36279) # (batch_size, sequence_length, vocab_size)\n",
            "(64, 5, 36279) # (batch_size, sequence_length, vocab_size)\n",
            "(64, 5, 36279) # (batch_size, sequence_length, vocab_size)\n",
            "(64, 5, 36279) # (batch_size, sequence_length, vocab_size)\n",
            "(64, 5, 36279) # (batch_size, sequence_length, vocab_size)\n",
            "(64, 5, 36279) # (batch_size, sequence_length, vocab_size)\n",
            "(64, 5, 36279) # (batch_size, sequence_length, vocab_size)\n",
            "(64, 5, 36279) # (batch_size, sequence_length, vocab_size)\n",
            "(64, 5, 36279) # (batch_size, sequence_length, vocab_size)\n",
            "(64, 5, 36279) # (batch_size, sequence_length, vocab_size)\n",
            "(64, 5, 36279) # (batch_size, sequence_length, vocab_size)\n",
            "(64, 5, 36279) # (batch_size, sequence_length, vocab_size)\n",
            "(64, 5, 36279) # (batch_size, sequence_length, vocab_size)\n",
            "(64, 5, 36279) # (batch_size, sequence_length, vocab_size)\n",
            "(64, 5, 36279) # (batch_size, sequence_length, vocab_size)\n",
            "(64, 5, 36279) # (batch_size, sequence_length, vocab_size)\n",
            "(64, 5, 36279) # (batch_size, sequence_length, vocab_size)\n",
            "(64, 5, 36279) # (batch_size, sequence_length, vocab_size)\n",
            "(64, 5, 36279) # (batch_size, sequence_length, vocab_size)\n",
            "(64, 5, 36279) # (batch_size, sequence_length, vocab_size)\n",
            "(64, 5, 36279) # (batch_size, sequence_length, vocab_size)\n",
            "(64, 5, 36279) # (batch_size, sequence_length, vocab_size)\n",
            "(64, 5, 36279) # (batch_size, sequence_length, vocab_size)\n",
            "(64, 5, 36279) # (batch_size, sequence_length, vocab_size)\n",
            "(64, 5, 36279) # (batch_size, sequence_length, vocab_size)\n",
            "(64, 5, 36279) # (batch_size, sequence_length, vocab_size)\n",
            "(64, 5, 36279) # (batch_size, sequence_length, vocab_size)\n",
            "(64, 5, 36279) # (batch_size, sequence_length, vocab_size)\n",
            "(64, 5, 36279) # (batch_size, sequence_length, vocab_size)\n",
            "(64, 5, 36279) # (batch_size, sequence_length, vocab_size)\n",
            "(64, 5, 36279) # (batch_size, sequence_length, vocab_size)\n",
            "(64, 5, 36279) # (batch_size, sequence_length, vocab_size)\n",
            "(64, 5, 36279) # (batch_size, sequence_length, vocab_size)\n",
            "(64, 5, 36279) # (batch_size, sequence_length, vocab_size)\n",
            "(64, 5, 36279) # (batch_size, sequence_length, vocab_size)\n",
            "(64, 5, 36279) # (batch_size, sequence_length, vocab_size)\n",
            "(64, 5, 36279) # (batch_size, sequence_length, vocab_size)\n",
            "(64, 5, 36279) # (batch_size, sequence_length, vocab_size)\n",
            "(64, 5, 36279) # (batch_size, sequence_length, vocab_size)\n",
            "(64, 5, 36279) # (batch_size, sequence_length, vocab_size)\n",
            "(64, 5, 36279) # (batch_size, sequence_length, vocab_size)\n",
            "(64, 5, 36279) # (batch_size, sequence_length, vocab_size)\n",
            "(64, 5, 36279) # (batch_size, sequence_length, vocab_size)\n",
            "(64, 5, 36279) # (batch_size, sequence_length, vocab_size)\n",
            "(64, 5, 36279) # (batch_size, sequence_length, vocab_size)\n",
            "(64, 5, 36279) # (batch_size, sequence_length, vocab_size)\n",
            "(64, 5, 36279) # (batch_size, sequence_length, vocab_size)\n",
            "(64, 5, 36279) # (batch_size, sequence_length, vocab_size)\n",
            "(64, 5, 36279) # (batch_size, sequence_length, vocab_size)\n",
            "(64, 5, 36279) # (batch_size, sequence_length, vocab_size)\n",
            "(64, 5, 36279) # (batch_size, sequence_length, vocab_size)\n",
            "(64, 5, 36279) # (batch_size, sequence_length, vocab_size)\n",
            "(64, 5, 36279) # (batch_size, sequence_length, vocab_size)\n",
            "(64, 5, 36279) # (batch_size, sequence_length, vocab_size)\n",
            "(64, 5, 36279) # (batch_size, sequence_length, vocab_size)\n",
            "(64, 5, 36279) # (batch_size, sequence_length, vocab_size)\n",
            "(64, 5, 36279) # (batch_size, sequence_length, vocab_size)\n",
            "(64, 5, 36279) # (batch_size, sequence_length, vocab_size)\n",
            "(64, 5, 36279) # (batch_size, sequence_length, vocab_size)\n",
            "(64, 5, 36279) # (batch_size, sequence_length, vocab_size)\n",
            "(64, 5, 36279) # (batch_size, sequence_length, vocab_size)\n",
            "(64, 5, 36279) # (batch_size, sequence_length, vocab_size)\n",
            "(64, 5, 36279) # (batch_size, sequence_length, vocab_size)\n",
            "(64, 5, 36279) # (batch_size, sequence_length, vocab_size)\n",
            "(64, 5, 36279) # (batch_size, sequence_length, vocab_size)\n",
            "(64, 5, 36279) # (batch_size, sequence_length, vocab_size)\n",
            "(64, 5, 36279) # (batch_size, sequence_length, vocab_size)\n",
            "(64, 5, 36279) # (batch_size, sequence_length, vocab_size)\n",
            "(64, 5, 36279) # (batch_size, sequence_length, vocab_size)\n",
            "(64, 5, 36279) # (batch_size, sequence_length, vocab_size)\n",
            "(64, 5, 36279) # (batch_size, sequence_length, vocab_size)\n",
            "(64, 5, 36279) # (batch_size, sequence_length, vocab_size)\n",
            "(64, 5, 36279) # (batch_size, sequence_length, vocab_size)\n",
            "(64, 5, 36279) # (batch_size, sequence_length, vocab_size)\n",
            "(64, 5, 36279) # (batch_size, sequence_length, vocab_size)\n",
            "(64, 5, 36279) # (batch_size, sequence_length, vocab_size)\n",
            "(64, 5, 36279) # (batch_size, sequence_length, vocab_size)\n",
            "(64, 5, 36279) # (batch_size, sequence_length, vocab_size)\n",
            "(64, 5, 36279) # (batch_size, sequence_length, vocab_size)\n",
            "(64, 5, 36279) # (batch_size, sequence_length, vocab_size)\n",
            "(64, 5, 36279) # (batch_size, sequence_length, vocab_size)\n",
            "(64, 5, 36279) # (batch_size, sequence_length, vocab_size)\n",
            "(64, 5, 36279) # (batch_size, sequence_length, vocab_size)\n",
            "(64, 5, 36279) # (batch_size, sequence_length, vocab_size)\n",
            "(64, 5, 36279) # (batch_size, sequence_length, vocab_size)\n",
            "(64, 5, 36279) # (batch_size, sequence_length, vocab_size)\n",
            "(64, 5, 36279) # (batch_size, sequence_length, vocab_size)\n",
            "(64, 5, 36279) # (batch_size, sequence_length, vocab_size)\n",
            "(64, 5, 36279) # (batch_size, sequence_length, vocab_size)\n",
            "(64, 5, 36279) # (batch_size, sequence_length, vocab_size)\n",
            "(64, 5, 36279) # (batch_size, sequence_length, vocab_size)\n",
            "(64, 5, 36279) # (batch_size, sequence_length, vocab_size)\n",
            "(64, 5, 36279) # (batch_size, sequence_length, vocab_size)\n",
            "(64, 5, 36279) # (batch_size, sequence_length, vocab_size)\n",
            "(64, 5, 36279) # (batch_size, sequence_length, vocab_size)\n",
            "(64, 5, 36279) # (batch_size, sequence_length, vocab_size)\n",
            "(64, 5, 36279) # (batch_size, sequence_length, vocab_size)\n",
            "(64, 5, 36279) # (batch_size, sequence_length, vocab_size)\n",
            "(64, 5, 36279) # (batch_size, sequence_length, vocab_size)\n",
            "(64, 5, 36279) # (batch_size, sequence_length, vocab_size)\n",
            "(64, 5, 36279) # (batch_size, sequence_length, vocab_size)\n",
            "(64, 5, 36279) # (batch_size, sequence_length, vocab_size)\n",
            "(64, 5, 36279) # (batch_size, sequence_length, vocab_size)\n",
            "(64, 5, 36279) # (batch_size, sequence_length, vocab_size)\n",
            "(64, 5, 36279) # (batch_size, sequence_length, vocab_size)\n",
            "(64, 5, 36279) # (batch_size, sequence_length, vocab_size)\n",
            "(64, 5, 36279) # (batch_size, sequence_length, vocab_size)\n",
            "(64, 5, 36279) # (batch_size, sequence_length, vocab_size)\n",
            "(64, 5, 36279) # (batch_size, sequence_length, vocab_size)\n",
            "(64, 5, 36279) # (batch_size, sequence_length, vocab_size)\n",
            "(64, 5, 36279) # (batch_size, sequence_length, vocab_size)\n",
            "(64, 5, 36279) # (batch_size, sequence_length, vocab_size)\n",
            "(64, 5, 36279) # (batch_size, sequence_length, vocab_size)\n",
            "(64, 5, 36279) # (batch_size, sequence_length, vocab_size)\n",
            "(64, 5, 36279) # (batch_size, sequence_length, vocab_size)\n",
            "(64, 5, 36279) # (batch_size, sequence_length, vocab_size)\n",
            "(64, 5, 36279) # (batch_size, sequence_length, vocab_size)\n",
            "(64, 5, 36279) # (batch_size, sequence_length, vocab_size)\n",
            "(64, 5, 36279) # (batch_size, sequence_length, vocab_size)\n",
            "(64, 5, 36279) # (batch_size, sequence_length, vocab_size)\n",
            "(64, 5, 36279) # (batch_size, sequence_length, vocab_size)\n",
            "(64, 5, 36279) # (batch_size, sequence_length, vocab_size)\n",
            "(64, 5, 36279) # (batch_size, sequence_length, vocab_size)\n",
            "(64, 5, 36279) # (batch_size, sequence_length, vocab_size)\n",
            "(64, 5, 36279) # (batch_size, sequence_length, vocab_size)\n",
            "(64, 5, 36279) # (batch_size, sequence_length, vocab_size)\n",
            "(64, 5, 36279) # (batch_size, sequence_length, vocab_size)\n",
            "(64, 5, 36279) # (batch_size, sequence_length, vocab_size)\n",
            "(64, 5, 36279) # (batch_size, sequence_length, vocab_size)\n",
            "(64, 5, 36279) # (batch_size, sequence_length, vocab_size)\n",
            "(64, 5, 36279) # (batch_size, sequence_length, vocab_size)\n",
            "(64, 5, 36279) # (batch_size, sequence_length, vocab_size)\n",
            "(64, 5, 36279) # (batch_size, sequence_length, vocab_size)\n",
            "(64, 5, 36279) # (batch_size, sequence_length, vocab_size)\n",
            "(64, 5, 36279) # (batch_size, sequence_length, vocab_size)\n",
            "(64, 5, 36279) # (batch_size, sequence_length, vocab_size)\n",
            "(64, 5, 36279) # (batch_size, sequence_length, vocab_size)\n",
            "(64, 5, 36279) # (batch_size, sequence_length, vocab_size)\n",
            "(64, 5, 36279) # (batch_size, sequence_length, vocab_size)\n",
            "(64, 5, 36279) # (batch_size, sequence_length, vocab_size)\n",
            "(64, 5, 36279) # (batch_size, sequence_length, vocab_size)\n",
            "(64, 5, 36279) # (batch_size, sequence_length, vocab_size)\n",
            "(64, 5, 36279) # (batch_size, sequence_length, vocab_size)\n",
            "(64, 5, 36279) # (batch_size, sequence_length, vocab_size)\n",
            "(64, 5, 36279) # (batch_size, sequence_length, vocab_size)\n",
            "(64, 5, 36279) # (batch_size, sequence_length, vocab_size)\n",
            "(64, 5, 36279) # (batch_size, sequence_length, vocab_size)\n",
            "(64, 5, 36279) # (batch_size, sequence_length, vocab_size)\n",
            "(64, 5, 36279) # (batch_size, sequence_length, vocab_size)\n",
            "(64, 5, 36279) # (batch_size, sequence_length, vocab_size)\n",
            "(64, 5, 36279) # (batch_size, sequence_length, vocab_size)\n",
            "(64, 5, 36279) # (batch_size, sequence_length, vocab_size)\n",
            "(64, 5, 36279) # (batch_size, sequence_length, vocab_size)\n",
            "(64, 5, 36279) # (batch_size, sequence_length, vocab_size)\n",
            "(64, 5, 36279) # (batch_size, sequence_length, vocab_size)\n",
            "(64, 5, 36279) # (batch_size, sequence_length, vocab_size)\n",
            "(64, 5, 36279) # (batch_size, sequence_length, vocab_size)\n",
            "(64, 5, 36279) # (batch_size, sequence_length, vocab_size)\n",
            "(64, 5, 36279) # (batch_size, sequence_length, vocab_size)\n",
            "(64, 5, 36279) # (batch_size, sequence_length, vocab_size)\n",
            "(64, 5, 36279) # (batch_size, sequence_length, vocab_size)\n",
            "(64, 5, 36279) # (batch_size, sequence_length, vocab_size)\n",
            "(64, 5, 36279) # (batch_size, sequence_length, vocab_size)\n",
            "(64, 5, 36279) # (batch_size, sequence_length, vocab_size)\n",
            "(64, 5, 36279) # (batch_size, sequence_length, vocab_size)\n",
            "(64, 5, 36279) # (batch_size, sequence_length, vocab_size)\n",
            "(64, 5, 36279) # (batch_size, sequence_length, vocab_size)\n",
            "(64, 5, 36279) # (batch_size, sequence_length, vocab_size)\n",
            "(64, 5, 36279) # (batch_size, sequence_length, vocab_size)\n",
            "(64, 5, 36279) # (batch_size, sequence_length, vocab_size)\n",
            "(64, 5, 36279) # (batch_size, sequence_length, vocab_size)\n",
            "(64, 5, 36279) # (batch_size, sequence_length, vocab_size)\n",
            "(64, 5, 36279) # (batch_size, sequence_length, vocab_size)\n",
            "(64, 5, 36279) # (batch_size, sequence_length, vocab_size)\n",
            "(64, 5, 36279) # (batch_size, sequence_length, vocab_size)\n",
            "(64, 5, 36279) # (batch_size, sequence_length, vocab_size)\n",
            "(64, 5, 36279) # (batch_size, sequence_length, vocab_size)\n",
            "(64, 5, 36279) # (batch_size, sequence_length, vocab_size)\n",
            "(64, 5, 36279) # (batch_size, sequence_length, vocab_size)\n",
            "(64, 5, 36279) # (batch_size, sequence_length, vocab_size)\n",
            "(64, 5, 36279) # (batch_size, sequence_length, vocab_size)\n",
            "(64, 5, 36279) # (batch_size, sequence_length, vocab_size)\n",
            "(64, 5, 36279) # (batch_size, sequence_length, vocab_size)\n",
            "(64, 5, 36279) # (batch_size, sequence_length, vocab_size)\n",
            "(64, 5, 36279) # (batch_size, sequence_length, vocab_size)\n",
            "(64, 5, 36279) # (batch_size, sequence_length, vocab_size)\n",
            "(64, 5, 36279) # (batch_size, sequence_length, vocab_size)\n",
            "(64, 5, 36279) # (batch_size, sequence_length, vocab_size)\n",
            "(64, 5, 36279) # (batch_size, sequence_length, vocab_size)\n",
            "(64, 5, 36279) # (batch_size, sequence_length, vocab_size)\n",
            "(64, 5, 36279) # (batch_size, sequence_length, vocab_size)\n",
            "(64, 5, 36279) # (batch_size, sequence_length, vocab_size)\n",
            "(64, 5, 36279) # (batch_size, sequence_length, vocab_size)\n",
            "(64, 5, 36279) # (batch_size, sequence_length, vocab_size)\n",
            "(64, 5, 36279) # (batch_size, sequence_length, vocab_size)\n",
            "(64, 5, 36279) # (batch_size, sequence_length, vocab_size)\n",
            "(64, 5, 36279) # (batch_size, sequence_length, vocab_size)\n",
            "(64, 5, 36279) # (batch_size, sequence_length, vocab_size)\n",
            "(64, 5, 36279) # (batch_size, sequence_length, vocab_size)\n",
            "(64, 5, 36279) # (batch_size, sequence_length, vocab_size)\n",
            "(64, 5, 36279) # (batch_size, sequence_length, vocab_size)\n",
            "(64, 5, 36279) # (batch_size, sequence_length, vocab_size)\n",
            "(64, 5, 36279) # (batch_size, sequence_length, vocab_size)\n",
            "(64, 5, 36279) # (batch_size, sequence_length, vocab_size)\n",
            "(64, 5, 36279) # (batch_size, sequence_length, vocab_size)\n",
            "(64, 5, 36279) # (batch_size, sequence_length, vocab_size)\n",
            "(64, 5, 36279) # (batch_size, sequence_length, vocab_size)\n",
            "(64, 5, 36279) # (batch_size, sequence_length, vocab_size)\n",
            "(64, 5, 36279) # (batch_size, sequence_length, vocab_size)\n",
            "(64, 5, 36279) # (batch_size, sequence_length, vocab_size)\n",
            "(64, 5, 36279) # (batch_size, sequence_length, vocab_size)\n",
            "(64, 5, 36279) # (batch_size, sequence_length, vocab_size)\n",
            "(64, 5, 36279) # (batch_size, sequence_length, vocab_size)\n",
            "(64, 5, 36279) # (batch_size, sequence_length, vocab_size)\n",
            "(64, 5, 36279) # (batch_size, sequence_length, vocab_size)\n",
            "(64, 5, 36279) # (batch_size, sequence_length, vocab_size)\n",
            "(64, 5, 36279) # (batch_size, sequence_length, vocab_size)\n",
            "(64, 5, 36279) # (batch_size, sequence_length, vocab_size)\n",
            "(64, 5, 36279) # (batch_size, sequence_length, vocab_size)\n",
            "(64, 5, 36279) # (batch_size, sequence_length, vocab_size)\n",
            "(64, 5, 36279) # (batch_size, sequence_length, vocab_size)\n",
            "(64, 5, 36279) # (batch_size, sequence_length, vocab_size)\n",
            "(64, 5, 36279) # (batch_size, sequence_length, vocab_size)\n",
            "(64, 5, 36279) # (batch_size, sequence_length, vocab_size)\n",
            "(64, 5, 36279) # (batch_size, sequence_length, vocab_size)\n",
            "(64, 5, 36279) # (batch_size, sequence_length, vocab_size)\n",
            "(64, 5, 36279) # (batch_size, sequence_length, vocab_size)\n",
            "(64, 5, 36279) # (batch_size, sequence_length, vocab_size)\n",
            "(64, 5, 36279) # (batch_size, sequence_length, vocab_size)\n",
            "(64, 5, 36279) # (batch_size, sequence_length, vocab_size)\n",
            "(64, 5, 36279) # (batch_size, sequence_length, vocab_size)\n",
            "(64, 5, 36279) # (batch_size, sequence_length, vocab_size)\n",
            "(64, 5, 36279) # (batch_size, sequence_length, vocab_size)\n",
            "(64, 5, 36279) # (batch_size, sequence_length, vocab_size)\n",
            "(64, 5, 36279) # (batch_size, sequence_length, vocab_size)\n",
            "(64, 5, 36279) # (batch_size, sequence_length, vocab_size)\n",
            "(64, 5, 36279) # (batch_size, sequence_length, vocab_size)\n",
            "(64, 5, 36279) # (batch_size, sequence_length, vocab_size)\n",
            "(64, 5, 36279) # (batch_size, sequence_length, vocab_size)\n",
            "(64, 5, 36279) # (batch_size, sequence_length, vocab_size)\n",
            "(64, 5, 36279) # (batch_size, sequence_length, vocab_size)\n",
            "(64, 5, 36279) # (batch_size, sequence_length, vocab_size)\n",
            "(64, 5, 36279) # (batch_size, sequence_length, vocab_size)\n",
            "(64, 5, 36279) # (batch_size, sequence_length, vocab_size)\n",
            "(64, 5, 36279) # (batch_size, sequence_length, vocab_size)\n",
            "(64, 5, 36279) # (batch_size, sequence_length, vocab_size)\n",
            "(64, 5, 36279) # (batch_size, sequence_length, vocab_size)\n",
            "(64, 5, 36279) # (batch_size, sequence_length, vocab_size)\n",
            "(64, 5, 36279) # (batch_size, sequence_length, vocab_size)\n",
            "(64, 5, 36279) # (batch_size, sequence_length, vocab_size)\n",
            "(64, 5, 36279) # (batch_size, sequence_length, vocab_size)\n",
            "(64, 5, 36279) # (batch_size, sequence_length, vocab_size)\n",
            "(64, 5, 36279) # (batch_size, sequence_length, vocab_size)\n",
            "(64, 5, 36279) # (batch_size, sequence_length, vocab_size)\n",
            "(64, 5, 36279) # (batch_size, sequence_length, vocab_size)\n",
            "(64, 5, 36279) # (batch_size, sequence_length, vocab_size)\n",
            "(64, 5, 36279) # (batch_size, sequence_length, vocab_size)\n",
            "(64, 5, 36279) # (batch_size, sequence_length, vocab_size)\n",
            "(64, 5, 36279) # (batch_size, sequence_length, vocab_size)\n",
            "(64, 5, 36279) # (batch_size, sequence_length, vocab_size)\n",
            "(64, 5, 36279) # (batch_size, sequence_length, vocab_size)\n",
            "(64, 5, 36279) # (batch_size, sequence_length, vocab_size)\n",
            "(64, 5, 36279) # (batch_size, sequence_length, vocab_size)\n",
            "(64, 5, 36279) # (batch_size, sequence_length, vocab_size)\n",
            "(64, 5, 36279) # (batch_size, sequence_length, vocab_size)\n",
            "(64, 5, 36279) # (batch_size, sequence_length, vocab_size)\n",
            "(64, 5, 36279) # (batch_size, sequence_length, vocab_size)\n",
            "(64, 5, 36279) # (batch_size, sequence_length, vocab_size)\n",
            "(64, 5, 36279) # (batch_size, sequence_length, vocab_size)\n",
            "(64, 5, 36279) # (batch_size, sequence_length, vocab_size)\n",
            "(64, 5, 36279) # (batch_size, sequence_length, vocab_size)\n",
            "(64, 5, 36279) # (batch_size, sequence_length, vocab_size)\n",
            "(64, 5, 36279) # (batch_size, sequence_length, vocab_size)\n",
            "(64, 5, 36279) # (batch_size, sequence_length, vocab_size)\n",
            "(64, 5, 36279) # (batch_size, sequence_length, vocab_size)\n",
            "(64, 5, 36279) # (batch_size, sequence_length, vocab_size)\n",
            "(64, 5, 36279) # (batch_size, sequence_length, vocab_size)\n",
            "(64, 5, 36279) # (batch_size, sequence_length, vocab_size)\n",
            "(64, 5, 36279) # (batch_size, sequence_length, vocab_size)\n",
            "(64, 5, 36279) # (batch_size, sequence_length, vocab_size)\n",
            "(64, 5, 36279) # (batch_size, sequence_length, vocab_size)\n",
            "(64, 5, 36279) # (batch_size, sequence_length, vocab_size)\n",
            "(64, 5, 36279) # (batch_size, sequence_length, vocab_size)\n",
            "(64, 5, 36279) # (batch_size, sequence_length, vocab_size)\n",
            "(64, 5, 36279) # (batch_size, sequence_length, vocab_size)\n",
            "(64, 5, 36279) # (batch_size, sequence_length, vocab_size)\n",
            "(64, 5, 36279) # (batch_size, sequence_length, vocab_size)\n",
            "(64, 5, 36279) # (batch_size, sequence_length, vocab_size)\n",
            "(64, 5, 36279) # (batch_size, sequence_length, vocab_size)\n",
            "(64, 5, 36279) # (batch_size, sequence_length, vocab_size)\n",
            "(64, 5, 36279) # (batch_size, sequence_length, vocab_size)\n",
            "(64, 5, 36279) # (batch_size, sequence_length, vocab_size)\n",
            "(64, 5, 36279) # (batch_size, sequence_length, vocab_size)\n",
            "(64, 5, 36279) # (batch_size, sequence_length, vocab_size)\n",
            "(64, 5, 36279) # (batch_size, sequence_length, vocab_size)\n",
            "(64, 5, 36279) # (batch_size, sequence_length, vocab_size)\n",
            "(64, 5, 36279) # (batch_size, sequence_length, vocab_size)\n",
            "(64, 5, 36279) # (batch_size, sequence_length, vocab_size)\n",
            "(64, 5, 36279) # (batch_size, sequence_length, vocab_size)\n",
            "(64, 5, 36279) # (batch_size, sequence_length, vocab_size)\n",
            "(64, 5, 36279) # (batch_size, sequence_length, vocab_size)\n",
            "(64, 5, 36279) # (batch_size, sequence_length, vocab_size)\n",
            "(64, 5, 36279) # (batch_size, sequence_length, vocab_size)\n",
            "(64, 5, 36279) # (batch_size, sequence_length, vocab_size)\n",
            "(64, 5, 36279) # (batch_size, sequence_length, vocab_size)\n",
            "(64, 5, 36279) # (batch_size, sequence_length, vocab_size)\n",
            "(64, 5, 36279) # (batch_size, sequence_length, vocab_size)\n",
            "(64, 5, 36279) # (batch_size, sequence_length, vocab_size)\n",
            "(64, 5, 36279) # (batch_size, sequence_length, vocab_size)\n",
            "(64, 5, 36279) # (batch_size, sequence_length, vocab_size)\n",
            "(64, 5, 36279) # (batch_size, sequence_length, vocab_size)\n",
            "(64, 5, 36279) # (batch_size, sequence_length, vocab_size)\n",
            "(64, 5, 36279) # (batch_size, sequence_length, vocab_size)\n",
            "(64, 5, 36279) # (batch_size, sequence_length, vocab_size)\n",
            "(64, 5, 36279) # (batch_size, sequence_length, vocab_size)\n",
            "(64, 5, 36279) # (batch_size, sequence_length, vocab_size)\n",
            "(64, 5, 36279) # (batch_size, sequence_length, vocab_size)\n",
            "(64, 5, 36279) # (batch_size, sequence_length, vocab_size)\n",
            "(64, 5, 36279) # (batch_size, sequence_length, vocab_size)\n",
            "(64, 5, 36279) # (batch_size, sequence_length, vocab_size)\n",
            "(64, 5, 36279) # (batch_size, sequence_length, vocab_size)\n",
            "(64, 5, 36279) # (batch_size, sequence_length, vocab_size)\n",
            "(64, 5, 36279) # (batch_size, sequence_length, vocab_size)\n",
            "(64, 5, 36279) # (batch_size, sequence_length, vocab_size)\n",
            "(64, 5, 36279) # (batch_size, sequence_length, vocab_size)\n",
            "(64, 5, 36279) # (batch_size, sequence_length, vocab_size)\n",
            "(64, 5, 36279) # (batch_size, sequence_length, vocab_size)\n",
            "(64, 5, 36279) # (batch_size, sequence_length, vocab_size)\n",
            "(64, 5, 36279) # (batch_size, sequence_length, vocab_size)\n",
            "(64, 5, 36279) # (batch_size, sequence_length, vocab_size)\n",
            "(64, 5, 36279) # (batch_size, sequence_length, vocab_size)\n",
            "(64, 5, 36279) # (batch_size, sequence_length, vocab_size)\n",
            "(64, 5, 36279) # (batch_size, sequence_length, vocab_size)\n",
            "(64, 5, 36279) # (batch_size, sequence_length, vocab_size)\n",
            "(64, 5, 36279) # (batch_size, sequence_length, vocab_size)\n",
            "(64, 5, 36279) # (batch_size, sequence_length, vocab_size)\n",
            "(64, 5, 36279) # (batch_size, sequence_length, vocab_size)\n",
            "(64, 5, 36279) # (batch_size, sequence_length, vocab_size)\n",
            "(64, 5, 36279) # (batch_size, sequence_length, vocab_size)\n",
            "(64, 5, 36279) # (batch_size, sequence_length, vocab_size)\n",
            "(64, 5, 36279) # (batch_size, sequence_length, vocab_size)\n",
            "(64, 5, 36279) # (batch_size, sequence_length, vocab_size)\n",
            "(64, 5, 36279) # (batch_size, sequence_length, vocab_size)\n",
            "(64, 5, 36279) # (batch_size, sequence_length, vocab_size)\n",
            "(64, 5, 36279) # (batch_size, sequence_length, vocab_size)\n",
            "(64, 5, 36279) # (batch_size, sequence_length, vocab_size)\n",
            "(64, 5, 36279) # (batch_size, sequence_length, vocab_size)\n",
            "(64, 5, 36279) # (batch_size, sequence_length, vocab_size)\n",
            "(64, 5, 36279) # (batch_size, sequence_length, vocab_size)\n",
            "(64, 5, 36279) # (batch_size, sequence_length, vocab_size)\n",
            "(64, 5, 36279) # (batch_size, sequence_length, vocab_size)\n",
            "(64, 5, 36279) # (batch_size, sequence_length, vocab_size)\n",
            "(64, 5, 36279) # (batch_size, sequence_length, vocab_size)\n",
            "(64, 5, 36279) # (batch_size, sequence_length, vocab_size)\n",
            "(64, 5, 36279) # (batch_size, sequence_length, vocab_size)\n",
            "(64, 5, 36279) # (batch_size, sequence_length, vocab_size)\n",
            "(64, 5, 36279) # (batch_size, sequence_length, vocab_size)\n",
            "(64, 5, 36279) # (batch_size, sequence_length, vocab_size)\n",
            "(64, 5, 36279) # (batch_size, sequence_length, vocab_size)\n",
            "(64, 5, 36279) # (batch_size, sequence_length, vocab_size)\n",
            "(64, 5, 36279) # (batch_size, sequence_length, vocab_size)\n",
            "(64, 5, 36279) # (batch_size, sequence_length, vocab_size)\n",
            "(64, 5, 36279) # (batch_size, sequence_length, vocab_size)\n",
            "(64, 5, 36279) # (batch_size, sequence_length, vocab_size)\n",
            "(64, 5, 36279) # (batch_size, sequence_length, vocab_size)\n",
            "(64, 5, 36279) # (batch_size, sequence_length, vocab_size)\n",
            "(64, 5, 36279) # (batch_size, sequence_length, vocab_size)\n",
            "(64, 5, 36279) # (batch_size, sequence_length, vocab_size)\n",
            "(64, 5, 36279) # (batch_size, sequence_length, vocab_size)\n",
            "(64, 5, 36279) # (batch_size, sequence_length, vocab_size)\n",
            "(64, 5, 36279) # (batch_size, sequence_length, vocab_size)\n",
            "(64, 5, 36279) # (batch_size, sequence_length, vocab_size)\n",
            "(64, 5, 36279) # (batch_size, sequence_length, vocab_size)\n",
            "(64, 5, 36279) # (batch_size, sequence_length, vocab_size)\n",
            "(64, 5, 36279) # (batch_size, sequence_length, vocab_size)\n",
            "(64, 5, 36279) # (batch_size, sequence_length, vocab_size)\n",
            "(64, 5, 36279) # (batch_size, sequence_length, vocab_size)\n",
            "(64, 5, 36279) # (batch_size, sequence_length, vocab_size)\n",
            "(64, 5, 36279) # (batch_size, sequence_length, vocab_size)\n",
            "(64, 5, 36279) # (batch_size, sequence_length, vocab_size)\n",
            "(64, 5, 36279) # (batch_size, sequence_length, vocab_size)\n",
            "(64, 5, 36279) # (batch_size, sequence_length, vocab_size)\n",
            "(64, 5, 36279) # (batch_size, sequence_length, vocab_size)\n",
            "(64, 5, 36279) # (batch_size, sequence_length, vocab_size)\n",
            "(64, 5, 36279) # (batch_size, sequence_length, vocab_size)\n",
            "(64, 5, 36279) # (batch_size, sequence_length, vocab_size)\n",
            "(64, 5, 36279) # (batch_size, sequence_length, vocab_size)\n",
            "(64, 5, 36279) # (batch_size, sequence_length, vocab_size)\n",
            "(64, 5, 36279) # (batch_size, sequence_length, vocab_size)\n",
            "(64, 5, 36279) # (batch_size, sequence_length, vocab_size)\n",
            "(64, 5, 36279) # (batch_size, sequence_length, vocab_size)\n",
            "(64, 5, 36279) # (batch_size, sequence_length, vocab_size)\n",
            "(64, 5, 36279) # (batch_size, sequence_length, vocab_size)\n",
            "(64, 5, 36279) # (batch_size, sequence_length, vocab_size)\n",
            "(64, 5, 36279) # (batch_size, sequence_length, vocab_size)\n",
            "(64, 5, 36279) # (batch_size, sequence_length, vocab_size)\n",
            "(64, 5, 36279) # (batch_size, sequence_length, vocab_size)\n",
            "(64, 5, 36279) # (batch_size, sequence_length, vocab_size)\n",
            "(64, 5, 36279) # (batch_size, sequence_length, vocab_size)\n",
            "(64, 5, 36279) # (batch_size, sequence_length, vocab_size)\n",
            "(64, 5, 36279) # (batch_size, sequence_length, vocab_size)\n",
            "(64, 5, 36279) # (batch_size, sequence_length, vocab_size)\n",
            "(64, 5, 36279) # (batch_size, sequence_length, vocab_size)\n",
            "(64, 5, 36279) # (batch_size, sequence_length, vocab_size)\n",
            "(64, 5, 36279) # (batch_size, sequence_length, vocab_size)\n",
            "(64, 5, 36279) # (batch_size, sequence_length, vocab_size)\n",
            "(64, 5, 36279) # (batch_size, sequence_length, vocab_size)\n",
            "(64, 5, 36279) # (batch_size, sequence_length, vocab_size)\n",
            "(64, 5, 36279) # (batch_size, sequence_length, vocab_size)\n",
            "(64, 5, 36279) # (batch_size, sequence_length, vocab_size)\n",
            "(64, 5, 36279) # (batch_size, sequence_length, vocab_size)\n",
            "(64, 5, 36279) # (batch_size, sequence_length, vocab_size)\n",
            "(64, 5, 36279) # (batch_size, sequence_length, vocab_size)\n",
            "(64, 5, 36279) # (batch_size, sequence_length, vocab_size)\n",
            "(64, 5, 36279) # (batch_size, sequence_length, vocab_size)\n",
            "(64, 5, 36279) # (batch_size, sequence_length, vocab_size)\n",
            "(64, 5, 36279) # (batch_size, sequence_length, vocab_size)\n",
            "(64, 5, 36279) # (batch_size, sequence_length, vocab_size)\n",
            "(64, 5, 36279) # (batch_size, sequence_length, vocab_size)\n",
            "(64, 5, 36279) # (batch_size, sequence_length, vocab_size)\n",
            "(64, 5, 36279) # (batch_size, sequence_length, vocab_size)\n",
            "(64, 5, 36279) # (batch_size, sequence_length, vocab_size)\n",
            "(64, 5, 36279) # (batch_size, sequence_length, vocab_size)\n",
            "(64, 5, 36279) # (batch_size, sequence_length, vocab_size)\n",
            "(64, 5, 36279) # (batch_size, sequence_length, vocab_size)\n",
            "(64, 5, 36279) # (batch_size, sequence_length, vocab_size)\n",
            "(64, 5, 36279) # (batch_size, sequence_length, vocab_size)\n",
            "(64, 5, 36279) # (batch_size, sequence_length, vocab_size)\n",
            "(64, 5, 36279) # (batch_size, sequence_length, vocab_size)\n",
            "(64, 5, 36279) # (batch_size, sequence_length, vocab_size)\n",
            "(64, 5, 36279) # (batch_size, sequence_length, vocab_size)\n",
            "(64, 5, 36279) # (batch_size, sequence_length, vocab_size)\n",
            "(64, 5, 36279) # (batch_size, sequence_length, vocab_size)\n",
            "(64, 5, 36279) # (batch_size, sequence_length, vocab_size)\n",
            "(64, 5, 36279) # (batch_size, sequence_length, vocab_size)\n",
            "(64, 5, 36279) # (batch_size, sequence_length, vocab_size)\n",
            "(64, 5, 36279) # (batch_size, sequence_length, vocab_size)\n",
            "(64, 5, 36279) # (batch_size, sequence_length, vocab_size)\n",
            "(64, 5, 36279) # (batch_size, sequence_length, vocab_size)\n",
            "(64, 5, 36279) # (batch_size, sequence_length, vocab_size)\n",
            "(64, 5, 36279) # (batch_size, sequence_length, vocab_size)\n",
            "(64, 5, 36279) # (batch_size, sequence_length, vocab_size)\n",
            "(64, 5, 36279) # (batch_size, sequence_length, vocab_size)\n",
            "(64, 5, 36279) # (batch_size, sequence_length, vocab_size)\n",
            "(64, 5, 36279) # (batch_size, sequence_length, vocab_size)\n",
            "(64, 5, 36279) # (batch_size, sequence_length, vocab_size)\n",
            "(64, 5, 36279) # (batch_size, sequence_length, vocab_size)\n",
            "(64, 5, 36279) # (batch_size, sequence_length, vocab_size)\n",
            "(64, 5, 36279) # (batch_size, sequence_length, vocab_size)\n",
            "(64, 5, 36279) # (batch_size, sequence_length, vocab_size)\n",
            "(64, 5, 36279) # (batch_size, sequence_length, vocab_size)\n",
            "(64, 5, 36279) # (batch_size, sequence_length, vocab_size)\n",
            "(64, 5, 36279) # (batch_size, sequence_length, vocab_size)\n",
            "(64, 5, 36279) # (batch_size, sequence_length, vocab_size)\n",
            "(64, 5, 36279) # (batch_size, sequence_length, vocab_size)\n",
            "(64, 5, 36279) # (batch_size, sequence_length, vocab_size)\n",
            "(64, 5, 36279) # (batch_size, sequence_length, vocab_size)\n",
            "(64, 5, 36279) # (batch_size, sequence_length, vocab_size)\n",
            "(64, 5, 36279) # (batch_size, sequence_length, vocab_size)\n",
            "(64, 5, 36279) # (batch_size, sequence_length, vocab_size)\n",
            "(64, 5, 36279) # (batch_size, sequence_length, vocab_size)\n",
            "(64, 5, 36279) # (batch_size, sequence_length, vocab_size)\n",
            "(64, 5, 36279) # (batch_size, sequence_length, vocab_size)\n",
            "(64, 5, 36279) # (batch_size, sequence_length, vocab_size)\n",
            "(64, 5, 36279) # (batch_size, sequence_length, vocab_size)\n",
            "(64, 5, 36279) # (batch_size, sequence_length, vocab_size)\n",
            "(64, 5, 36279) # (batch_size, sequence_length, vocab_size)\n",
            "(64, 5, 36279) # (batch_size, sequence_length, vocab_size)\n",
            "(64, 5, 36279) # (batch_size, sequence_length, vocab_size)\n",
            "(64, 5, 36279) # (batch_size, sequence_length, vocab_size)\n",
            "(64, 5, 36279) # (batch_size, sequence_length, vocab_size)\n",
            "(64, 5, 36279) # (batch_size, sequence_length, vocab_size)\n",
            "(64, 5, 36279) # (batch_size, sequence_length, vocab_size)\n",
            "(64, 5, 36279) # (batch_size, sequence_length, vocab_size)\n",
            "(64, 5, 36279) # (batch_size, sequence_length, vocab_size)\n",
            "(64, 5, 36279) # (batch_size, sequence_length, vocab_size)\n",
            "(64, 5, 36279) # (batch_size, sequence_length, vocab_size)\n",
            "(64, 5, 36279) # (batch_size, sequence_length, vocab_size)\n",
            "(64, 5, 36279) # (batch_size, sequence_length, vocab_size)\n",
            "(64, 5, 36279) # (batch_size, sequence_length, vocab_size)\n",
            "(64, 5, 36279) # (batch_size, sequence_length, vocab_size)\n",
            "(64, 5, 36279) # (batch_size, sequence_length, vocab_size)\n",
            "(64, 5, 36279) # (batch_size, sequence_length, vocab_size)\n",
            "(64, 5, 36279) # (batch_size, sequence_length, vocab_size)\n",
            "(64, 5, 36279) # (batch_size, sequence_length, vocab_size)\n",
            "(64, 5, 36279) # (batch_size, sequence_length, vocab_size)\n",
            "(64, 5, 36279) # (batch_size, sequence_length, vocab_size)\n",
            "(64, 5, 36279) # (batch_size, sequence_length, vocab_size)\n",
            "(64, 5, 36279) # (batch_size, sequence_length, vocab_size)\n",
            "(64, 5, 36279) # (batch_size, sequence_length, vocab_size)\n",
            "(64, 5, 36279) # (batch_size, sequence_length, vocab_size)\n",
            "(64, 5, 36279) # (batch_size, sequence_length, vocab_size)\n",
            "(64, 5, 36279) # (batch_size, sequence_length, vocab_size)\n",
            "(64, 5, 36279) # (batch_size, sequence_length, vocab_size)\n",
            "(64, 5, 36279) # (batch_size, sequence_length, vocab_size)\n",
            "(64, 5, 36279) # (batch_size, sequence_length, vocab_size)\n",
            "(64, 5, 36279) # (batch_size, sequence_length, vocab_size)\n",
            "(64, 5, 36279) # (batch_size, sequence_length, vocab_size)\n",
            "(64, 5, 36279) # (batch_size, sequence_length, vocab_size)\n",
            "(64, 5, 36279) # (batch_size, sequence_length, vocab_size)\n",
            "(64, 5, 36279) # (batch_size, sequence_length, vocab_size)\n",
            "(64, 5, 36279) # (batch_size, sequence_length, vocab_size)\n",
            "(64, 5, 36279) # (batch_size, sequence_length, vocab_size)\n",
            "(64, 5, 36279) # (batch_size, sequence_length, vocab_size)\n",
            "(64, 5, 36279) # (batch_size, sequence_length, vocab_size)\n",
            "(64, 5, 36279) # (batch_size, sequence_length, vocab_size)\n",
            "(64, 5, 36279) # (batch_size, sequence_length, vocab_size)\n",
            "(64, 5, 36279) # (batch_size, sequence_length, vocab_size)\n",
            "(64, 5, 36279) # (batch_size, sequence_length, vocab_size)\n",
            "(64, 5, 36279) # (batch_size, sequence_length, vocab_size)\n",
            "(64, 5, 36279) # (batch_size, sequence_length, vocab_size)\n",
            "(64, 5, 36279) # (batch_size, sequence_length, vocab_size)\n",
            "(64, 5, 36279) # (batch_size, sequence_length, vocab_size)\n",
            "(64, 5, 36279) # (batch_size, sequence_length, vocab_size)\n",
            "(64, 5, 36279) # (batch_size, sequence_length, vocab_size)\n",
            "(64, 5, 36279) # (batch_size, sequence_length, vocab_size)\n",
            "(64, 5, 36279) # (batch_size, sequence_length, vocab_size)\n",
            "(64, 5, 36279) # (batch_size, sequence_length, vocab_size)\n",
            "(64, 5, 36279) # (batch_size, sequence_length, vocab_size)\n",
            "(64, 5, 36279) # (batch_size, sequence_length, vocab_size)\n",
            "(64, 5, 36279) # (batch_size, sequence_length, vocab_size)\n",
            "(64, 5, 36279) # (batch_size, sequence_length, vocab_size)\n",
            "(64, 5, 36279) # (batch_size, sequence_length, vocab_size)\n",
            "(64, 5, 36279) # (batch_size, sequence_length, vocab_size)\n",
            "(64, 5, 36279) # (batch_size, sequence_length, vocab_size)\n",
            "(64, 5, 36279) # (batch_size, sequence_length, vocab_size)\n",
            "(64, 5, 36279) # (batch_size, sequence_length, vocab_size)\n",
            "(64, 5, 36279) # (batch_size, sequence_length, vocab_size)\n",
            "(64, 5, 36279) # (batch_size, sequence_length, vocab_size)\n",
            "(64, 5, 36279) # (batch_size, sequence_length, vocab_size)\n",
            "(64, 5, 36279) # (batch_size, sequence_length, vocab_size)\n",
            "(64, 5, 36279) # (batch_size, sequence_length, vocab_size)\n",
            "(64, 5, 36279) # (batch_size, sequence_length, vocab_size)\n",
            "(64, 5, 36279) # (batch_size, sequence_length, vocab_size)\n",
            "(64, 5, 36279) # (batch_size, sequence_length, vocab_size)\n",
            "(64, 5, 36279) # (batch_size, sequence_length, vocab_size)\n",
            "(64, 5, 36279) # (batch_size, sequence_length, vocab_size)\n",
            "(64, 5, 36279) # (batch_size, sequence_length, vocab_size)\n",
            "(64, 5, 36279) # (batch_size, sequence_length, vocab_size)\n",
            "(64, 5, 36279) # (batch_size, sequence_length, vocab_size)\n",
            "(64, 5, 36279) # (batch_size, sequence_length, vocab_size)\n",
            "(64, 5, 36279) # (batch_size, sequence_length, vocab_size)\n",
            "(64, 5, 36279) # (batch_size, sequence_length, vocab_size)\n",
            "(64, 5, 36279) # (batch_size, sequence_length, vocab_size)\n",
            "(64, 5, 36279) # (batch_size, sequence_length, vocab_size)\n",
            "(64, 5, 36279) # (batch_size, sequence_length, vocab_size)\n",
            "(64, 5, 36279) # (batch_size, sequence_length, vocab_size)\n",
            "(64, 5, 36279) # (batch_size, sequence_length, vocab_size)\n",
            "(64, 5, 36279) # (batch_size, sequence_length, vocab_size)\n",
            "(64, 5, 36279) # (batch_size, sequence_length, vocab_size)\n",
            "(64, 5, 36279) # (batch_size, sequence_length, vocab_size)\n",
            "(64, 5, 36279) # (batch_size, sequence_length, vocab_size)\n",
            "(64, 5, 36279) # (batch_size, sequence_length, vocab_size)\n",
            "(64, 5, 36279) # (batch_size, sequence_length, vocab_size)\n",
            "(64, 5, 36279) # (batch_size, sequence_length, vocab_size)\n",
            "(64, 5, 36279) # (batch_size, sequence_length, vocab_size)\n",
            "(64, 5, 36279) # (batch_size, sequence_length, vocab_size)\n",
            "(64, 5, 36279) # (batch_size, sequence_length, vocab_size)\n",
            "(64, 5, 36279) # (batch_size, sequence_length, vocab_size)\n",
            "(64, 5, 36279) # (batch_size, sequence_length, vocab_size)\n",
            "(64, 5, 36279) # (batch_size, sequence_length, vocab_size)\n",
            "(64, 5, 36279) # (batch_size, sequence_length, vocab_size)\n",
            "(64, 5, 36279) # (batch_size, sequence_length, vocab_size)\n",
            "(64, 5, 36279) # (batch_size, sequence_length, vocab_size)\n",
            "(64, 5, 36279) # (batch_size, sequence_length, vocab_size)\n",
            "(64, 5, 36279) # (batch_size, sequence_length, vocab_size)\n",
            "(64, 5, 36279) # (batch_size, sequence_length, vocab_size)\n",
            "(64, 5, 36279) # (batch_size, sequence_length, vocab_size)\n",
            "(64, 5, 36279) # (batch_size, sequence_length, vocab_size)\n",
            "(64, 5, 36279) # (batch_size, sequence_length, vocab_size)\n",
            "(64, 5, 36279) # (batch_size, sequence_length, vocab_size)\n",
            "(64, 5, 36279) # (batch_size, sequence_length, vocab_size)\n",
            "(64, 5, 36279) # (batch_size, sequence_length, vocab_size)\n",
            "(64, 5, 36279) # (batch_size, sequence_length, vocab_size)\n",
            "(64, 5, 36279) # (batch_size, sequence_length, vocab_size)\n",
            "(64, 5, 36279) # (batch_size, sequence_length, vocab_size)\n",
            "(64, 5, 36279) # (batch_size, sequence_length, vocab_size)\n",
            "(64, 5, 36279) # (batch_size, sequence_length, vocab_size)\n",
            "(64, 5, 36279) # (batch_size, sequence_length, vocab_size)\n",
            "(64, 5, 36279) # (batch_size, sequence_length, vocab_size)\n",
            "(64, 5, 36279) # (batch_size, sequence_length, vocab_size)\n",
            "(64, 5, 36279) # (batch_size, sequence_length, vocab_size)\n",
            "(64, 5, 36279) # (batch_size, sequence_length, vocab_size)\n",
            "(64, 5, 36279) # (batch_size, sequence_length, vocab_size)\n",
            "(64, 5, 36279) # (batch_size, sequence_length, vocab_size)\n",
            "(64, 5, 36279) # (batch_size, sequence_length, vocab_size)\n",
            "(64, 5, 36279) # (batch_size, sequence_length, vocab_size)\n",
            "(64, 5, 36279) # (batch_size, sequence_length, vocab_size)\n",
            "(64, 5, 36279) # (batch_size, sequence_length, vocab_size)\n",
            "(64, 5, 36279) # (batch_size, sequence_length, vocab_size)\n",
            "(64, 5, 36279) # (batch_size, sequence_length, vocab_size)\n",
            "(64, 5, 36279) # (batch_size, sequence_length, vocab_size)\n",
            "(64, 5, 36279) # (batch_size, sequence_length, vocab_size)\n",
            "(64, 5, 36279) # (batch_size, sequence_length, vocab_size)\n",
            "(64, 5, 36279) # (batch_size, sequence_length, vocab_size)\n",
            "(64, 5, 36279) # (batch_size, sequence_length, vocab_size)\n",
            "(64, 5, 36279) # (batch_size, sequence_length, vocab_size)\n",
            "(64, 5, 36279) # (batch_size, sequence_length, vocab_size)\n",
            "(64, 5, 36279) # (batch_size, sequence_length, vocab_size)\n",
            "(64, 5, 36279) # (batch_size, sequence_length, vocab_size)\n",
            "(64, 5, 36279) # (batch_size, sequence_length, vocab_size)\n",
            "(64, 5, 36279) # (batch_size, sequence_length, vocab_size)\n",
            "(64, 5, 36279) # (batch_size, sequence_length, vocab_size)\n",
            "(64, 5, 36279) # (batch_size, sequence_length, vocab_size)\n",
            "(64, 5, 36279) # (batch_size, sequence_length, vocab_size)\n",
            "(64, 5, 36279) # (batch_size, sequence_length, vocab_size)\n",
            "(64, 5, 36279) # (batch_size, sequence_length, vocab_size)\n",
            "(64, 5, 36279) # (batch_size, sequence_length, vocab_size)\n",
            "(64, 5, 36279) # (batch_size, sequence_length, vocab_size)\n",
            "(64, 5, 36279) # (batch_size, sequence_length, vocab_size)\n",
            "(64, 5, 36279) # (batch_size, sequence_length, vocab_size)\n",
            "(64, 5, 36279) # (batch_size, sequence_length, vocab_size)\n",
            "(64, 5, 36279) # (batch_size, sequence_length, vocab_size)\n",
            "(64, 5, 36279) # (batch_size, sequence_length, vocab_size)\n",
            "(64, 5, 36279) # (batch_size, sequence_length, vocab_size)\n",
            "(64, 5, 36279) # (batch_size, sequence_length, vocab_size)\n",
            "(64, 5, 36279) # (batch_size, sequence_length, vocab_size)\n",
            "(64, 5, 36279) # (batch_size, sequence_length, vocab_size)\n",
            "(64, 5, 36279) # (batch_size, sequence_length, vocab_size)\n",
            "(64, 5, 36279) # (batch_size, sequence_length, vocab_size)\n",
            "(64, 5, 36279) # (batch_size, sequence_length, vocab_size)\n",
            "(64, 5, 36279) # (batch_size, sequence_length, vocab_size)\n",
            "(64, 5, 36279) # (batch_size, sequence_length, vocab_size)\n",
            "(64, 5, 36279) # (batch_size, sequence_length, vocab_size)\n",
            "(64, 5, 36279) # (batch_size, sequence_length, vocab_size)\n",
            "(64, 5, 36279) # (batch_size, sequence_length, vocab_size)\n",
            "(64, 5, 36279) # (batch_size, sequence_length, vocab_size)\n",
            "(64, 5, 36279) # (batch_size, sequence_length, vocab_size)\n",
            "(64, 5, 36279) # (batch_size, sequence_length, vocab_size)\n",
            "(64, 5, 36279) # (batch_size, sequence_length, vocab_size)\n",
            "(64, 5, 36279) # (batch_size, sequence_length, vocab_size)\n",
            "(64, 5, 36279) # (batch_size, sequence_length, vocab_size)\n",
            "(64, 5, 36279) # (batch_size, sequence_length, vocab_size)\n",
            "(64, 5, 36279) # (batch_size, sequence_length, vocab_size)\n",
            "(64, 5, 36279) # (batch_size, sequence_length, vocab_size)\n",
            "(64, 5, 36279) # (batch_size, sequence_length, vocab_size)\n",
            "(64, 5, 36279) # (batch_size, sequence_length, vocab_size)\n",
            "(64, 5, 36279) # (batch_size, sequence_length, vocab_size)\n",
            "(64, 5, 36279) # (batch_size, sequence_length, vocab_size)\n",
            "(64, 5, 36279) # (batch_size, sequence_length, vocab_size)\n",
            "(64, 5, 36279) # (batch_size, sequence_length, vocab_size)\n",
            "(64, 5, 36279) # (batch_size, sequence_length, vocab_size)\n",
            "(64, 5, 36279) # (batch_size, sequence_length, vocab_size)\n",
            "(64, 5, 36279) # (batch_size, sequence_length, vocab_size)\n",
            "(64, 5, 36279) # (batch_size, sequence_length, vocab_size)\n",
            "(64, 5, 36279) # (batch_size, sequence_length, vocab_size)\n",
            "(64, 5, 36279) # (batch_size, sequence_length, vocab_size)\n",
            "(64, 5, 36279) # (batch_size, sequence_length, vocab_size)\n",
            "(64, 5, 36279) # (batch_size, sequence_length, vocab_size)\n",
            "(64, 5, 36279) # (batch_size, sequence_length, vocab_size)\n",
            "(64, 5, 36279) # (batch_size, sequence_length, vocab_size)\n",
            "(64, 5, 36279) # (batch_size, sequence_length, vocab_size)\n",
            "(64, 5, 36279) # (batch_size, sequence_length, vocab_size)\n",
            "(64, 5, 36279) # (batch_size, sequence_length, vocab_size)\n",
            "(64, 5, 36279) # (batch_size, sequence_length, vocab_size)\n",
            "(64, 5, 36279) # (batch_size, sequence_length, vocab_size)\n",
            "(64, 5, 36279) # (batch_size, sequence_length, vocab_size)\n",
            "(64, 5, 36279) # (batch_size, sequence_length, vocab_size)\n",
            "(64, 5, 36279) # (batch_size, sequence_length, vocab_size)\n",
            "(64, 5, 36279) # (batch_size, sequence_length, vocab_size)\n",
            "(64, 5, 36279) # (batch_size, sequence_length, vocab_size)\n",
            "(64, 5, 36279) # (batch_size, sequence_length, vocab_size)\n",
            "(64, 5, 36279) # (batch_size, sequence_length, vocab_size)\n",
            "(64, 5, 36279) # (batch_size, sequence_length, vocab_size)\n",
            "(64, 5, 36279) # (batch_size, sequence_length, vocab_size)\n",
            "(64, 5, 36279) # (batch_size, sequence_length, vocab_size)\n",
            "(64, 5, 36279) # (batch_size, sequence_length, vocab_size)\n",
            "(64, 5, 36279) # (batch_size, sequence_length, vocab_size)\n",
            "(64, 5, 36279) # (batch_size, sequence_length, vocab_size)\n",
            "(64, 5, 36279) # (batch_size, sequence_length, vocab_size)\n",
            "(64, 5, 36279) # (batch_size, sequence_length, vocab_size)\n",
            "(64, 5, 36279) # (batch_size, sequence_length, vocab_size)\n"
          ],
          "name": "stdout"
        }
      ]
    },
    {
      "cell_type": "code",
      "metadata": {
        "colab": {
          "base_uri": "https://localhost:8080/"
        },
        "id": "UGlmDs50BgLp",
        "outputId": "c9a57606-adb7-4e4e-fa95-4944b3715a5d"
      },
      "source": [
        "model.summary()"
      ],
      "execution_count": 16,
      "outputs": [
        {
          "output_type": "stream",
          "text": [
            "Model: \"my_model\"\n",
            "_________________________________________________________________\n",
            "Layer (type)                 Output Shape              Param #   \n",
            "=================================================================\n",
            "embedding (Embedding)        multiple                  9287424   \n",
            "_________________________________________________________________\n",
            "gru (GRU)                    multiple                  3938304   \n",
            "_________________________________________________________________\n",
            "dense (Dense)                multiple                  37185975  \n",
            "=================================================================\n",
            "Total params: 50,411,703\n",
            "Trainable params: 50,411,703\n",
            "Non-trainable params: 0\n",
            "_________________________________________________________________\n"
          ],
          "name": "stdout"
        }
      ]
    },
    {
      "cell_type": "markdown",
      "metadata": {
        "id": "Zzg4IfXIPEJo"
      },
      "source": [
        "# Training\n",
        "\n"
      ]
    },
    {
      "cell_type": "code",
      "metadata": {
        "id": "NNfyUBMsByCY"
      },
      "source": [
        "loss = tf.losses.SparseCategoricalCrossentropy(from_logits=True)"
      ],
      "execution_count": 17,
      "outputs": []
    },
    {
      "cell_type": "code",
      "metadata": {
        "colab": {
          "base_uri": "https://localhost:8080/"
        },
        "id": "RP4EoUfRCvdt",
        "outputId": "e62208b6-9414-4904-f826-94c6e2f70ec7"
      },
      "source": [
        "example_batch_loss = loss(target_example_batch, example_batch_predictions)\n",
        "mean_loss = example_batch_predictions.numpy().mean()\n",
        "\n",
        "print(\"Prediction shape: \", example_batch_predictions.shape, \" # (batch_size, sequence_lenght, vocab_size)\")\n",
        "print(\"Mean loss:        \", mean_loss)"
      ],
      "execution_count": 18,
      "outputs": [
        {
          "output_type": "stream",
          "text": [
            "Prediction shape:  (64, 5, 36279)  # (batch_size, sequence_lenght, vocab_size)\n",
            "Mean loss:         1.1824714e-06\n"
          ],
          "name": "stdout"
        }
      ]
    },
    {
      "cell_type": "code",
      "metadata": {
        "colab": {
          "base_uri": "https://localhost:8080/"
        },
        "id": "dOKE2tzkDwl3",
        "outputId": "436c84f3-a2e6-473c-ac6f-d852e19ba584"
      },
      "source": [
        "tf.exp(mean_loss).numpy()"
      ],
      "execution_count": 19,
      "outputs": [
        {
          "output_type": "execute_result",
          "data": {
            "text/plain": [
              "1.0000012"
            ]
          },
          "metadata": {
            "tags": []
          },
          "execution_count": 19
        }
      ]
    },
    {
      "cell_type": "code",
      "metadata": {
        "id": "v1iFJe72EJCF"
      },
      "source": [
        "model.compile(optimizer='adam', loss=loss)"
      ],
      "execution_count": 20,
      "outputs": []
    },
    {
      "cell_type": "code",
      "metadata": {
        "id": "eCPir3N_EOj9"
      },
      "source": [
        "# Directory where the checkpoints will be saved\n",
        "checkpoint_dir = './training_checkpoints'\n",
        "# Name of the checkpoint files\n",
        "checkpoint_prefix = os.path.join(checkpoint_dir, \"ckpt_{epoch}\")\n",
        "\n",
        "checkpoint_callback = tf.keras.callbacks.ModelCheckpoint(\n",
        "    filepath=checkpoint_prefix,\n",
        "    save_weights_only=True)\n"
      ],
      "execution_count": 21,
      "outputs": []
    },
    {
      "cell_type": "code",
      "metadata": {
        "colab": {
          "base_uri": "https://localhost:8080/",
          "height": 435
        },
        "id": "f2pTI5O8EUFg",
        "outputId": "84ae4b30-24dc-4e40-f7d6-4afda22ea0d0"
      },
      "source": [
        "EPOCHS = 20\n",
        "\n",
        "history = model.fit(dataset, epochs=EPOCHS, callbacks=[checkpoint_callback])"
      ],
      "execution_count": 22,
      "outputs": [
        {
          "output_type": "stream",
          "text": [
            "Epoch 1/20\n",
            "3403/3403 [==============================] - 573s 168ms/step - loss: 6.2717\n",
            "Epoch 2/20\n",
            " 290/3403 [=>............................] - ETA: 8:39 - loss: 5.0915"
          ],
          "name": "stdout"
        },
        {
          "output_type": "error",
          "ename": "KeyboardInterrupt",
          "evalue": "ignored",
          "traceback": [
            "\u001b[0;31m---------------------------------------------------------------------------\u001b[0m",
            "\u001b[0;31mKeyboardInterrupt\u001b[0m                         Traceback (most recent call last)",
            "\u001b[0;32m<ipython-input-22-a1e8d5ba1744>\u001b[0m in \u001b[0;36m<module>\u001b[0;34m()\u001b[0m\n\u001b[1;32m      1\u001b[0m \u001b[0mEPOCHS\u001b[0m \u001b[0;34m=\u001b[0m \u001b[0;36m20\u001b[0m\u001b[0;34m\u001b[0m\u001b[0;34m\u001b[0m\u001b[0m\n\u001b[1;32m      2\u001b[0m \u001b[0;34m\u001b[0m\u001b[0m\n\u001b[0;32m----> 3\u001b[0;31m \u001b[0mhistory\u001b[0m \u001b[0;34m=\u001b[0m \u001b[0mmodel\u001b[0m\u001b[0;34m.\u001b[0m\u001b[0mfit\u001b[0m\u001b[0;34m(\u001b[0m\u001b[0mdataset\u001b[0m\u001b[0;34m,\u001b[0m \u001b[0mepochs\u001b[0m\u001b[0;34m=\u001b[0m\u001b[0mEPOCHS\u001b[0m\u001b[0;34m,\u001b[0m \u001b[0mcallbacks\u001b[0m\u001b[0;34m=\u001b[0m\u001b[0;34m[\u001b[0m\u001b[0mcheckpoint_callback\u001b[0m\u001b[0;34m]\u001b[0m\u001b[0;34m)\u001b[0m\u001b[0;34m\u001b[0m\u001b[0;34m\u001b[0m\u001b[0m\n\u001b[0m",
            "\u001b[0;32m/usr/local/lib/python3.7/dist-packages/tensorflow/python/keras/engine/training.py\u001b[0m in \u001b[0;36mfit\u001b[0;34m(self, x, y, batch_size, epochs, verbose, callbacks, validation_split, validation_data, shuffle, class_weight, sample_weight, initial_epoch, steps_per_epoch, validation_steps, validation_batch_size, validation_freq, max_queue_size, workers, use_multiprocessing)\u001b[0m\n\u001b[1;32m   1098\u001b[0m                 _r=1):\n\u001b[1;32m   1099\u001b[0m               \u001b[0mcallbacks\u001b[0m\u001b[0;34m.\u001b[0m\u001b[0mon_train_batch_begin\u001b[0m\u001b[0;34m(\u001b[0m\u001b[0mstep\u001b[0m\u001b[0;34m)\u001b[0m\u001b[0;34m\u001b[0m\u001b[0;34m\u001b[0m\u001b[0m\n\u001b[0;32m-> 1100\u001b[0;31m               \u001b[0mtmp_logs\u001b[0m \u001b[0;34m=\u001b[0m \u001b[0mself\u001b[0m\u001b[0;34m.\u001b[0m\u001b[0mtrain_function\u001b[0m\u001b[0;34m(\u001b[0m\u001b[0miterator\u001b[0m\u001b[0;34m)\u001b[0m\u001b[0;34m\u001b[0m\u001b[0;34m\u001b[0m\u001b[0m\n\u001b[0m\u001b[1;32m   1101\u001b[0m               \u001b[0;32mif\u001b[0m \u001b[0mdata_handler\u001b[0m\u001b[0;34m.\u001b[0m\u001b[0mshould_sync\u001b[0m\u001b[0;34m:\u001b[0m\u001b[0;34m\u001b[0m\u001b[0;34m\u001b[0m\u001b[0m\n\u001b[1;32m   1102\u001b[0m                 \u001b[0mcontext\u001b[0m\u001b[0;34m.\u001b[0m\u001b[0masync_wait\u001b[0m\u001b[0;34m(\u001b[0m\u001b[0;34m)\u001b[0m\u001b[0;34m\u001b[0m\u001b[0;34m\u001b[0m\u001b[0m\n",
            "\u001b[0;32m/usr/local/lib/python3.7/dist-packages/tensorflow/python/eager/def_function.py\u001b[0m in \u001b[0;36m__call__\u001b[0;34m(self, *args, **kwds)\u001b[0m\n\u001b[1;32m    826\u001b[0m     \u001b[0mtracing_count\u001b[0m \u001b[0;34m=\u001b[0m \u001b[0mself\u001b[0m\u001b[0;34m.\u001b[0m\u001b[0mexperimental_get_tracing_count\u001b[0m\u001b[0;34m(\u001b[0m\u001b[0;34m)\u001b[0m\u001b[0;34m\u001b[0m\u001b[0;34m\u001b[0m\u001b[0m\n\u001b[1;32m    827\u001b[0m     \u001b[0;32mwith\u001b[0m \u001b[0mtrace\u001b[0m\u001b[0;34m.\u001b[0m\u001b[0mTrace\u001b[0m\u001b[0;34m(\u001b[0m\u001b[0mself\u001b[0m\u001b[0;34m.\u001b[0m\u001b[0m_name\u001b[0m\u001b[0;34m)\u001b[0m \u001b[0;32mas\u001b[0m \u001b[0mtm\u001b[0m\u001b[0;34m:\u001b[0m\u001b[0;34m\u001b[0m\u001b[0;34m\u001b[0m\u001b[0m\n\u001b[0;32m--> 828\u001b[0;31m       \u001b[0mresult\u001b[0m \u001b[0;34m=\u001b[0m \u001b[0mself\u001b[0m\u001b[0;34m.\u001b[0m\u001b[0m_call\u001b[0m\u001b[0;34m(\u001b[0m\u001b[0;34m*\u001b[0m\u001b[0margs\u001b[0m\u001b[0;34m,\u001b[0m \u001b[0;34m**\u001b[0m\u001b[0mkwds\u001b[0m\u001b[0;34m)\u001b[0m\u001b[0;34m\u001b[0m\u001b[0;34m\u001b[0m\u001b[0m\n\u001b[0m\u001b[1;32m    829\u001b[0m       \u001b[0mcompiler\u001b[0m \u001b[0;34m=\u001b[0m \u001b[0;34m\"xla\"\u001b[0m \u001b[0;32mif\u001b[0m \u001b[0mself\u001b[0m\u001b[0;34m.\u001b[0m\u001b[0m_experimental_compile\u001b[0m \u001b[0;32melse\u001b[0m \u001b[0;34m\"nonXla\"\u001b[0m\u001b[0;34m\u001b[0m\u001b[0;34m\u001b[0m\u001b[0m\n\u001b[1;32m    830\u001b[0m       \u001b[0mnew_tracing_count\u001b[0m \u001b[0;34m=\u001b[0m \u001b[0mself\u001b[0m\u001b[0;34m.\u001b[0m\u001b[0mexperimental_get_tracing_count\u001b[0m\u001b[0;34m(\u001b[0m\u001b[0;34m)\u001b[0m\u001b[0;34m\u001b[0m\u001b[0;34m\u001b[0m\u001b[0m\n",
            "\u001b[0;32m/usr/local/lib/python3.7/dist-packages/tensorflow/python/eager/def_function.py\u001b[0m in \u001b[0;36m_call\u001b[0;34m(self, *args, **kwds)\u001b[0m\n\u001b[1;32m    853\u001b[0m       \u001b[0;31m# In this case we have created variables on the first call, so we run the\u001b[0m\u001b[0;34m\u001b[0m\u001b[0;34m\u001b[0m\u001b[0;34m\u001b[0m\u001b[0m\n\u001b[1;32m    854\u001b[0m       \u001b[0;31m# defunned version which is guaranteed to never create variables.\u001b[0m\u001b[0;34m\u001b[0m\u001b[0;34m\u001b[0m\u001b[0;34m\u001b[0m\u001b[0m\n\u001b[0;32m--> 855\u001b[0;31m       \u001b[0;32mreturn\u001b[0m \u001b[0mself\u001b[0m\u001b[0;34m.\u001b[0m\u001b[0m_stateless_fn\u001b[0m\u001b[0;34m(\u001b[0m\u001b[0;34m*\u001b[0m\u001b[0margs\u001b[0m\u001b[0;34m,\u001b[0m \u001b[0;34m**\u001b[0m\u001b[0mkwds\u001b[0m\u001b[0;34m)\u001b[0m  \u001b[0;31m# pylint: disable=not-callable\u001b[0m\u001b[0;34m\u001b[0m\u001b[0;34m\u001b[0m\u001b[0m\n\u001b[0m\u001b[1;32m    856\u001b[0m     \u001b[0;32melif\u001b[0m \u001b[0mself\u001b[0m\u001b[0;34m.\u001b[0m\u001b[0m_stateful_fn\u001b[0m \u001b[0;32mis\u001b[0m \u001b[0;32mnot\u001b[0m \u001b[0;32mNone\u001b[0m\u001b[0;34m:\u001b[0m\u001b[0;34m\u001b[0m\u001b[0;34m\u001b[0m\u001b[0m\n\u001b[1;32m    857\u001b[0m       \u001b[0;31m# Release the lock early so that multiple threads can perform the call\u001b[0m\u001b[0;34m\u001b[0m\u001b[0;34m\u001b[0m\u001b[0;34m\u001b[0m\u001b[0m\n",
            "\u001b[0;32m/usr/local/lib/python3.7/dist-packages/tensorflow/python/eager/function.py\u001b[0m in \u001b[0;36m__call__\u001b[0;34m(self, *args, **kwargs)\u001b[0m\n\u001b[1;32m   2941\u001b[0m        filtered_flat_args) = self._maybe_define_function(args, kwargs)\n\u001b[1;32m   2942\u001b[0m     return graph_function._call_flat(\n\u001b[0;32m-> 2943\u001b[0;31m         filtered_flat_args, captured_inputs=graph_function.captured_inputs)  # pylint: disable=protected-access\n\u001b[0m\u001b[1;32m   2944\u001b[0m \u001b[0;34m\u001b[0m\u001b[0m\n\u001b[1;32m   2945\u001b[0m   \u001b[0;34m@\u001b[0m\u001b[0mproperty\u001b[0m\u001b[0;34m\u001b[0m\u001b[0;34m\u001b[0m\u001b[0m\n",
            "\u001b[0;32m/usr/local/lib/python3.7/dist-packages/tensorflow/python/eager/function.py\u001b[0m in \u001b[0;36m_call_flat\u001b[0;34m(self, args, captured_inputs, cancellation_manager)\u001b[0m\n\u001b[1;32m   1917\u001b[0m       \u001b[0;31m# No tape is watching; skip to running the function.\u001b[0m\u001b[0;34m\u001b[0m\u001b[0;34m\u001b[0m\u001b[0;34m\u001b[0m\u001b[0m\n\u001b[1;32m   1918\u001b[0m       return self._build_call_outputs(self._inference_function.call(\n\u001b[0;32m-> 1919\u001b[0;31m           ctx, args, cancellation_manager=cancellation_manager))\n\u001b[0m\u001b[1;32m   1920\u001b[0m     forward_backward = self._select_forward_and_backward_functions(\n\u001b[1;32m   1921\u001b[0m         \u001b[0margs\u001b[0m\u001b[0;34m,\u001b[0m\u001b[0;34m\u001b[0m\u001b[0;34m\u001b[0m\u001b[0m\n",
            "\u001b[0;32m/usr/local/lib/python3.7/dist-packages/tensorflow/python/eager/function.py\u001b[0m in \u001b[0;36mcall\u001b[0;34m(self, ctx, args, cancellation_manager)\u001b[0m\n\u001b[1;32m    558\u001b[0m               \u001b[0minputs\u001b[0m\u001b[0;34m=\u001b[0m\u001b[0margs\u001b[0m\u001b[0;34m,\u001b[0m\u001b[0;34m\u001b[0m\u001b[0;34m\u001b[0m\u001b[0m\n\u001b[1;32m    559\u001b[0m               \u001b[0mattrs\u001b[0m\u001b[0;34m=\u001b[0m\u001b[0mattrs\u001b[0m\u001b[0;34m,\u001b[0m\u001b[0;34m\u001b[0m\u001b[0;34m\u001b[0m\u001b[0m\n\u001b[0;32m--> 560\u001b[0;31m               ctx=ctx)\n\u001b[0m\u001b[1;32m    561\u001b[0m         \u001b[0;32melse\u001b[0m\u001b[0;34m:\u001b[0m\u001b[0;34m\u001b[0m\u001b[0;34m\u001b[0m\u001b[0m\n\u001b[1;32m    562\u001b[0m           outputs = execute.execute_with_cancellation(\n",
            "\u001b[0;32m/usr/local/lib/python3.7/dist-packages/tensorflow/python/eager/execute.py\u001b[0m in \u001b[0;36mquick_execute\u001b[0;34m(op_name, num_outputs, inputs, attrs, ctx, name)\u001b[0m\n\u001b[1;32m     58\u001b[0m     \u001b[0mctx\u001b[0m\u001b[0;34m.\u001b[0m\u001b[0mensure_initialized\u001b[0m\u001b[0;34m(\u001b[0m\u001b[0;34m)\u001b[0m\u001b[0;34m\u001b[0m\u001b[0;34m\u001b[0m\u001b[0m\n\u001b[1;32m     59\u001b[0m     tensors = pywrap_tfe.TFE_Py_Execute(ctx._handle, device_name, op_name,\n\u001b[0;32m---> 60\u001b[0;31m                                         inputs, attrs, num_outputs)\n\u001b[0m\u001b[1;32m     61\u001b[0m   \u001b[0;32mexcept\u001b[0m \u001b[0mcore\u001b[0m\u001b[0;34m.\u001b[0m\u001b[0m_NotOkStatusException\u001b[0m \u001b[0;32mas\u001b[0m \u001b[0me\u001b[0m\u001b[0;34m:\u001b[0m\u001b[0;34m\u001b[0m\u001b[0;34m\u001b[0m\u001b[0m\n\u001b[1;32m     62\u001b[0m     \u001b[0;32mif\u001b[0m \u001b[0mname\u001b[0m \u001b[0;32mis\u001b[0m \u001b[0;32mnot\u001b[0m \u001b[0;32mNone\u001b[0m\u001b[0;34m:\u001b[0m\u001b[0;34m\u001b[0m\u001b[0;34m\u001b[0m\u001b[0m\n",
            "\u001b[0;31mKeyboardInterrupt\u001b[0m: "
          ]
        }
      ]
    },
    {
      "cell_type": "code",
      "metadata": {
        "id": "pABK0FehOj01"
      },
      "source": [
        "class OneStep(tf.keras.Model):\n",
        "  def __init__(self, model, words_from_ids, ids_from_words, temperature=1.0):\n",
        "    super().__init__()\n",
        "    self.temperature=temperature\n",
        "    self.model = model\n",
        "    self.words_from_ids = words_from_ids\n",
        "    self.ids_from_words = ids_from_words\n",
        "\n",
        "    #'''\n",
        "    # Create a mask to prevent \"\" or \"[UNK]\" from being generated.\n",
        "    skip_ids = self.ids_from_words(['','[UNK]'])[:, None]\n",
        "    sparse_mask = tf.SparseTensor(\n",
        "        # Put a -inf at each bad index.\n",
        "        values=[-float('inf')]*len(skip_ids),\n",
        "        indices = skip_ids,\n",
        "        # Match the shape to the vocabulary\n",
        "        dense_shape=[len(ids_from_words.get_vocabulary())]) \n",
        "    self.prediction_mask = tf.sparse.to_dense(sparse_mask)\n",
        "    #'''\n",
        "\n",
        "  @tf.function\n",
        "  def generate_one_step(self, inputs, states=None):\n",
        "    # Convert strings to token IDs.\n",
        "    '''input_chars = tf.strings.unicode_split(inputs, 'UTF-8')\n",
        "    input_ids = self.ids_from_words(input_chars).to_tensor())'''\n",
        "    input_ids = self.ids_from_words([inputs])\n",
        "\n",
        "    # Run the model.\n",
        "    # predicted_logits.shape is [batch, char, next_char_logits] \n",
        "    predicted_logits, states =  self.model(inputs=input_ids, \n",
        "                                           states=states, \n",
        "                                           return_state=True)\n",
        "    # Only use the last prediction.\n",
        "    predicted_logits = predicted_logits[:, -1, :]\n",
        "    predicted_logits = predicted_logits/self.temperature\n",
        "    # Apply the prediction mask: prevent \"\" or \"[UNK]\" from being generated.\n",
        "    predicted_logits = predicted_logits + self.prediction_mask\n",
        "\n",
        "    # Sample the output logits to generate token IDs.\n",
        "    predicted_ids = tf.random.categorical(predicted_logits, num_samples=1)\n",
        "    predicted_ids = tf.squeeze(predicted_ids, axis=-1)\n",
        "\n",
        "    # Convert from token ids to characters\n",
        "    predicted_words = self.words_from_ids(predicted_ids)\n",
        "\n",
        "    # Return the characters and model state.\n",
        "    return predicted_words, states"
      ],
      "execution_count": null,
      "outputs": []
    },
    {
      "cell_type": "code",
      "metadata": {
        "id": "4uFRGB5NPbGq"
      },
      "source": [
        "#one_step_model = OneStep(model, words_from_ids, ids_from_words)\n",
        "one_step_model = OneStep(model, words_from_ids, layer)"
      ],
      "execution_count": null,
      "outputs": []
    },
    {
      "cell_type": "code",
      "metadata": {
        "id": "hqHyrvTOTc9q"
      },
      "source": [
        "start  = time.time()\n",
        "states = None\n",
        "next_word = tf.constant(['romeo'])\n",
        "result    = [next_word]\n",
        "\n",
        "for n in range(100):\n",
        "  next_word, states = one_step_model.generate_one_step(next_word, states=states)\n",
        "  result.append(next_word)\n",
        "\n",
        "result = tf.strings.join(result)\n",
        "end    = time.time()\n",
        "\n",
        "print(result[0].numpy().decode('utf-8'), '\\n\\n' + '_'*80)\n",
        "\n",
        "print(f\"\\nRun time: {end - start}\")\n"
      ],
      "execution_count": null,
      "outputs": []
    },
    {
      "cell_type": "code",
      "metadata": {
        "id": "MPkdGDnaF0F_"
      },
      "source": [
        "tf.saved_model.save(one_step_model, 'one_step')\n",
        "one_step_reloaded = tf.saved_model.load('one_step')"
      ],
      "execution_count": null,
      "outputs": []
    },
    {
      "cell_type": "code",
      "metadata": {
        "id": "7GGyNSJoF3UZ"
      },
      "source": [
        "states = None\n",
        "next_char = tf.constant(['stock'])\n",
        "result = [next_char]\n",
        "\n",
        "for n in range(100):\n",
        "  next_char, states = one_step_reloaded.generate_one_step(next_char, states=states)\n",
        "  result.append(next_char)\n",
        "\n",
        "print(tf.strings.join(result, separator=\" \")[0].numpy().decode(\"utf-8\"))"
      ],
      "execution_count": null,
      "outputs": []
    },
    {
      "cell_type": "markdown",
      "metadata": {
        "id": "Zg7d9ZtOB1xH"
      },
      "source": [
        "# TUTORIAL VECCHIO"
      ]
    },
    {
      "cell_type": "markdown",
      "metadata": {
        "id": "Ug1e9bAP-I3L"
      },
      "source": [
        "## Vectorize the lyrics"
      ]
    },
    {
      "cell_type": "code",
      "metadata": {
        "id": "HSw1_0AyVd_7"
      },
      "source": [
        "# Build the Vectorizer\n",
        "from tensorflow.keras.layers.experimental.preprocessing import StringLookup\n",
        "from tensorflow.keras.layers.experimental.preprocessing import TextVectorization\n",
        "\n",
        "# Init\n",
        "vectorize_layer = TextVectorization(\n",
        "    output_mode='int',\n",
        "    output_sequence_length=50)\n",
        "\n",
        "# Load data as TF Dataset object\n",
        "tf_lyrics = tf.data.Dataset.from_tensor_slices(lyrics)\n",
        "tf_genre = tf.data.Dataset.from_tensor_slices(genre)\n",
        "\n",
        "# Fit the Vectorizer\n",
        "vectorize_layer.adapt(tf_lyrics.batch(1024))\n",
        "inverse_vocab = vectorize_layer.get_vocabulary()\n",
        "\n",
        "ids_from_chars = StringLookup(\n",
        "    vocabulary=inverse_vocab)\n",
        "\n",
        "# Traform (vectorize) the lyrics\n",
        "def vectorize_text(text):\n",
        "  text = tf.expand_dims(text, -1)\n",
        "  return tf.squeeze(vectorize_layer(text))\n",
        "\n",
        "# Vectorize the data in text_ds.\n",
        "tf_vec_lyrics = tf_lyrics.batch(1024).prefetch(AUTOTUNE).map(vectorize_layer)\n",
        "\n",
        "ids = ids_from_chars(tf_vec_lyrics)\n",
        "\n"
      ],
      "execution_count": null,
      "outputs": []
    },
    {
      "cell_type": "code",
      "metadata": {
        "id": "NeCckay6AGUC"
      },
      "source": [
        "# Build the Vectorizer\n",
        "from tensorflow.keras.layers.experimental.preprocessing import TextVectorization\n",
        "\n",
        "# Init\n",
        "vectorize_layer = TextVectorization(\n",
        "    output_mode='int',\n",
        "    output_sequence_length=50)\n",
        "\n",
        "# Load data as TF Dataset object\n",
        "tf_lyrics = tf.data.Dataset.from_tensor_slices(lyrics)\n",
        "tf_genre = tf.data.Dataset.from_tensor_slices(genre)\n",
        "\n",
        "# Fit the Vectorizer\n",
        "vectorize_layer.adapt(tf_lyrics.batch(1024))\n",
        "\n",
        "# Save the inverse vocabulary\n",
        "inverse_vocab = vectorize_layer.get_vocabulary()\n",
        "print(inverse_vocab[:20])"
      ],
      "execution_count": null,
      "outputs": []
    },
    {
      "cell_type": "code",
      "metadata": {
        "id": "Xnb01OZJSAx9"
      },
      "source": [
        "'''\n",
        "# Traform (vectorize) the lyrics\n",
        "def vectorize_text(text):\n",
        "  text = tf.expand_dims(text, -1)\n",
        "  return tf.squeeze(vectorize_layer(text))\n",
        "\n",
        "# Vectorize the data in text_ds.\n",
        "tf_vec_lyrics = tf_lyrics.batch(1024).prefetch(AUTOTUNE).map(vectorize_layer).unbatch()\n",
        "\n",
        "# Print the vectorized text\n",
        "sequences = list(tf_vec_lyrics.as_numpy_iterator())\n",
        "             \n",
        "print(len(sequences))\n",
        "\n",
        "#for seq in sequences[:5]:\n",
        "#  print(f\"{seq} => {[inverse_vocab[i] for i in seq]}\")\n",
        "'''"
      ],
      "execution_count": null,
      "outputs": []
    },
    {
      "cell_type": "code",
      "metadata": {
        "id": "JDrFcDdhCy1m"
      },
      "source": [
        "# Transform (vectorize) the lyrics\n",
        "def vectorize_text(text):\n",
        "  text = tf.expand_dims(text, -1)\n",
        "  return tf.squeeze(vectorize_layer(text))\n",
        "\n",
        "# Vectorize the data in text_ds.\n",
        "tf_vec_lyrics = tf_lyrics.batch(1024).prefetch(AUTOTUNE).map(vectorize_layer).unbatch()\n",
        "\n",
        "# Print the vectorized text\n",
        "sequences = tf_vec_lyrics.batch(seq_length+1, drop_remainder=True)\n",
        "\n",
        "#print(len(sequences))\n",
        "\n",
        "for seq in sequences[:5]:\n",
        "  print(f\"{seq} => {[inverse_vocab[i] for i in seq]}\")"
      ],
      "execution_count": null,
      "outputs": []
    },
    {
      "cell_type": "code",
      "metadata": {
        "id": "z5LAfRdzSz2P"
      },
      "source": [
        "ids_from_terms = preprocessing.StringLookup(\n",
        "    vocabulary=list(inverse_vocab))\n",
        "\n",
        "ids = ids_from_terms(tf_lyrics)\n",
        "\n",
        "terms_from_ids = tf.keras.layers.experimental.preprocessing.StringLookup(\n",
        "    vocabulary=ids_from_terms.get_vocabulary(), invert=True)\n",
        "\n",
        "terms = terms_from_ids(ids)\n",
        "\n",
        "tf.strings.reduce_join(terms, axis=-1).numpy()\n",
        "\n",
        "\n",
        "\n",
        "def text_from_ids(term):\n",
        "  return tf.strings.reduce_join(chars_from_ids(ids), axis=-1)"
      ],
      "execution_count": null,
      "outputs": []
    },
    {
      "cell_type": "code",
      "metadata": {
        "id": "nhTuR3zFQFla"
      },
      "source": [
        "def split_input_target(lyrics):\n",
        "    input_text = lyrics[:-1]\n",
        "    target_text = lyrics[1:]\n",
        "    return input_text, target_text"
      ],
      "execution_count": null,
      "outputs": []
    },
    {
      "cell_type": "code",
      "metadata": {
        "id": "HPCbV4iAQQsk"
      },
      "source": [
        "tf_vec_lyrics = sequences.map(split_input_target)"
      ],
      "execution_count": null,
      "outputs": []
    },
    {
      "cell_type": "code",
      "metadata": {
        "id": "T83naHTdQfYt"
      },
      "source": [
        "for input_example, target_example in tf_vec_lyrics.take(1):\n",
        "    print(\"Input :\", text_from_ids(input_example).numpy())\n",
        "    print(\"Target:\", text_from_ids(target_example).numpy())"
      ],
      "execution_count": null,
      "outputs": []
    },
    {
      "cell_type": "code",
      "metadata": {
        "id": "geQdh-AbNd6l"
      },
      "source": [
        "'''\n",
        "ids_from_terms = preprocessing.StringLookup(\n",
        "    vocabulary=list(inverse_vocab))\n",
        "\n",
        "ids = ids_from_terms(terms)\n",
        "\n",
        "chars_from_ids = tf.keras.layers.experimental.preprocessing.StringLookup(\n",
        "    vocabulary=ids_from_chars.get_vocabulary(), invert=True)\n",
        "\n",
        "chars = chars_from_ids(ids)\n",
        "'''"
      ],
      "execution_count": null,
      "outputs": []
    },
    {
      "cell_type": "code",
      "metadata": {
        "id": "9JpQXAnJIk-G"
      },
      "source": [
        "# The maximum length sentence you want for a single input in characters\n",
        "#seq_length = 10\n",
        "#examples_per_epoch = len(text)//(seq_length+1)\n",
        "\n",
        "# Create training examples / targets\n",
        "#char_dataset = tf.data.Dataset.from_tensor_slices(list(text_vector_ds.as_numpy_iterator())[0])"
      ],
      "execution_count": null,
      "outputs": []
    },
    {
      "cell_type": "code",
      "metadata": {
        "id": "qUYQqaK5ONkv"
      },
      "source": [
        "#sequences = char_dataset.batch(seq_length+1, drop_remainder=True)\n",
        "\n",
        "#def split_input_target(chunk):\n",
        "#    input_text = chunk[:-1]\n",
        "#    target_text = chunk[1:]\n",
        "#    return input_text, target_text\n",
        "\n",
        "#dataset = sequences.map(split_input_target)"
      ],
      "execution_count": null,
      "outputs": []
    },
    {
      "cell_type": "markdown",
      "metadata": {
        "id": "jm6NaZ5eI030"
      },
      "source": [
        "## Build the model"
      ]
    },
    {
      "cell_type": "code",
      "metadata": {
        "id": "82zFYEtVClXz"
      },
      "source": [
        "# Batch size\n",
        "BATCH_SIZE = 64\n",
        "\n",
        "# Buffer size to shuffle the dataset\n",
        "# (TF data is designed to work with possibly infinite sequences,\n",
        "# so it doesn't attempt to shuffle the entire sequence in memory. Instead,\n",
        "# it maintains a buffer in which it shuffles elements).\n",
        "BUFFER_SIZE = 10000\n",
        "\n",
        "tf_vec_lyrics = tf_vec_lyrics.shuffle(BUFFER_SIZE).batch(BATCH_SIZE, drop_remainder=True).prefetch(tf.data.experimental.AUTOTUNE)"
      ],
      "execution_count": null,
      "outputs": []
    },
    {
      "cell_type": "code",
      "metadata": {
        "id": "je5sxJTCPTm8"
      },
      "source": [
        "# Length of the vocabulary in chars\n",
        "vocab_size = len(inverse_vocab)\n",
        "\n",
        "# The embedding dimension\n",
        "embedding_dim = 256\n",
        "\n",
        "# Number of RNN units\n",
        "rnn_units = 1024\n",
        "\n",
        "class MyModel(tf.keras.Model):\n",
        "  def __init__(self, vocab_size, embedding_dim, rnn_units):\n",
        "    super().__init__(self)\n",
        "    self.embedding = tf.keras.layers.Embedding(vocab_size, embedding_dim)\n",
        "    self.gru = tf.keras.layers.GRU(rnn_units,\n",
        "                                   return_sequences=True, \n",
        "                                   return_state=True)\n",
        "    self.dense = tf.keras.layers.Dense(vocab_size)\n",
        "\n",
        "  def call(self, inputs, states=None, return_state=False, training=False):\n",
        "    x = inputs\n",
        "    x = self.embedding(x, training=training)\n",
        "    if states is None:\n",
        "      states = self.gru.get_initial_state(x)\n",
        "    x, states = self.gru(x, initial_state=states, training=training)\n",
        "    x = self.dense(x, training=training)\n",
        "\n",
        "    if return_state:\n",
        "      return x, states\n",
        "    else: \n",
        "      return x\n",
        "\n",
        "model = MyModel(\n",
        "    # Be sure the vocabulary size matches the `StringLookup` layers.\n",
        "    vocab_size=len(inverse_vocab),\n",
        "    embedding_dim=embedding_dim,\n",
        "    rnn_units=rnn_units)\n"
      ],
      "execution_count": null,
      "outputs": []
    },
    {
      "cell_type": "code",
      "metadata": {
        "id": "OSBbio7CJOuy"
      },
      "source": [
        "'''\n",
        "def build_model(vocab_size, embedding_dim, rnn_units, batch_size):\n",
        "    model = tf.keras.Sequential([\n",
        "        tf.keras.layers.Embedding(vocab_size, embedding_dim,\n",
        "                                  batch_input_shape=[batch_size, None]),\n",
        "        tf.keras.layers.GRU(rnn_units,\n",
        "                            return_sequences=True,\n",
        "                            stateful=True,\n",
        "                            recurrent_initializer='glorot_uniform'),\n",
        "        tf.keras.layers.Dense(vocab_size)\n",
        "    ])\n",
        "    return model\n",
        "\n",
        "model = build_model(\n",
        "    vocab_size=len(inverse_vocab),\n",
        "    embedding_dim=embedding_dim,\n",
        "    rnn_units=rnn_units,\n",
        "    batch_size=BATCH_SIZE)\n",
        "'''"
      ],
      "execution_count": null,
      "outputs": []
    },
    {
      "cell_type": "code",
      "metadata": {
        "id": "P-NT2GimPcFE"
      },
      "source": [
        "#example_batch_predictions = 0\n",
        "\n",
        "#for input_example_batch, target_example_batch in tf_vec_lyrics.take(1):\n",
        "#    example_batch_predictions = model(input_example_batch)\n",
        "#    print(example_batch_predictions.shape, \"# (batch_size, sequence_length, vocab_size)\")\n",
        "\n",
        "#model.summary()\n"
      ],
      "execution_count": null,
      "outputs": []
    },
    {
      "cell_type": "code",
      "metadata": {
        "id": "0exo2zD3EbTW"
      },
      "source": [
        "tf_vec_lyrics.batch(50, drop_remainder = True)\n",
        "\n",
        "for lyric in tf_vec_lyrics.take(1):\n",
        "  example_batch_predictions = model(lyric)\n",
        "\n",
        "model.summary()"
      ],
      "execution_count": null,
      "outputs": []
    },
    {
      "cell_type": "code",
      "metadata": {
        "id": "QK7BwXDJMqFc"
      },
      "source": [
        "sampled_indices = tf.random.categorical(example_batch_predictions[0], num_samples=1)\n",
        "sampled_indices = tf.squeeze(sampled_indices,axis=-1).numpy()\n",
        "\n",
        "sampled_indices"
      ],
      "execution_count": null,
      "outputs": []
    },
    {
      "cell_type": "code",
      "metadata": {
        "id": "8el5dut9NJ67"
      },
      "source": [
        "print(\"Input:\\n\", text_from_ids(input_example_batch[0]).numpy())\n",
        "print()\n",
        "print(\"Next Char Predictions:\\n\", text_from_ids(sampled_indices).numpy())\n"
      ],
      "execution_count": null,
      "outputs": []
    }
  ]
}